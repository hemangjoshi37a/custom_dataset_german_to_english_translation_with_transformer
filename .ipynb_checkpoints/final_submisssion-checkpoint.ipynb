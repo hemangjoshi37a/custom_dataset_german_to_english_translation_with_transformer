{
 "cells": [
  {
   "cell_type": "markdown",
   "id": "832e1357-ae85-4bd1-ad3b-dde6133c3c38",
   "metadata": {},
   "source": [
    "# German to English Translator Using Transformers"
   ]
  },
  {
   "cell_type": "markdown",
   "id": "4952ce31-2eaa-4e61-9fd2-bd9fb527d65b",
   "metadata": {},
   "source": [
    "## Importing NLP libraries"
   ]
  },
  {
   "cell_type": "code",
   "execution_count": 1,
   "id": "8d45e0a8-8fb7-4bf9-9a00-f2f85ba81b4b",
   "metadata": {},
   "outputs": [],
   "source": [
    "import torch\n",
    "from torch.utils.data import Dataset\n",
    "import joblib\n",
    "from rich import print\n",
    "import project_evaluate\n",
    "import json\n",
    "CUDA_LAUNCH_BLOCKING=1\n",
    "import tqdm\n",
    "import math\n",
    "import nltk\n",
    "import numpy as np\n",
    "from transformers import AutoTokenizer\n",
    "from torch.utils.data import DataLoader\n",
    "import torch\n",
    "from transformers import  get_linear_schedule_with_warmup\n",
    "from torch.utils.data import Dataset, DataLoader\n",
    "from nltk.translate.bleu_score import corpus_bleu\n",
    "from transformers import AutoTokenizer, AutoModelForSeq2SeqLM\n",
    "from transformers import MBartForConditionalGeneration, MBart50TokenizerFast\n",
    "from nltk.translate.bleu_score import corpus_bleu"
   ]
  },
  {
   "cell_type": "code",
   "execution_count": 2,
   "id": "f248963f",
   "metadata": {
    "scrolled": true
   },
   "outputs": [],
   "source": [
    "# pip install --upgrade rich joblib transformers nltk evaluate torch "
   ]
  },
  {
   "cell_type": "markdown",
   "id": "9e2648d3-d22e-4c37-8cf4-f4c82b310542",
   "metadata": {},
   "source": [
    "## Preparing Dataset for Training The Model"
   ]
  },
  {
   "cell_type": "code",
   "execution_count": 3,
   "id": "33ef517e-8f05-424c-85e2-ae1437de42c5",
   "metadata": {},
   "outputs": [],
   "source": [
    "train_data = project_evaluate.read_file('./train.labeled')\n",
    "val_data = project_evaluate.read_file('./val.labeled')\n",
    "\n",
    "train_english_sentences = train_data[0]  # a list of Trainng English sentences\n",
    "train_german_sentences =train_data[1]  # a list of Trainng German sentences\n",
    "\n",
    "val_english_sentences = val_data[0]  # a list of Validation English sentences\n",
    "val_german_sentences =val_data[1]  # a list of Validation German sentences"
   ]
  },
  {
   "cell_type": "markdown",
   "id": "84c2ccc9-bd17-4a6a-b69d-6902249b3b46",
   "metadata": {},
   "source": [
    "## Defining Training Parameters"
   ]
  },
  {
   "cell_type": "code",
   "execution_count": 4,
   "id": "8bd7a26a-3bc1-4252-9eef-e5ccb8692333",
   "metadata": {},
   "outputs": [],
   "source": [
    "# local_model_filename = 't5_german_english_model_final.pt'\n",
    "load_this_model = True   #  False / True\n",
    "LR = 2e-5\n",
    "TRAINING_EPOCHS = 100\n",
    "generation_max_len = 250\n",
    "# model_str_for_loading_pretrained = 't5-base'\n",
    "device = torch.device(\"cuda\" if torch.cuda.is_available() else \"cpu\")"
   ]
  },
  {
   "cell_type": "markdown",
   "id": "fcb7b475-bee7-4ee0-96d9-1ad6c9340598",
   "metadata": {},
   "source": [
    "## Loading Locally Saved Model and Tokenizer Saved"
   ]
  },
  {
   "cell_type": "code",
   "execution_count": 5,
   "id": "f99a8c4a-a2a1-41fc-bb6c-d4ef5947f126",
   "metadata": {},
   "outputs": [],
   "source": [
    "# tokenizer = AutoTokenizer.from_pretrained(model_str_for_loading_pretrained,model_max_length=250)\n",
    "# model = AutoModelForSeq2SeqLM.from_pretrained(model_str_for_loading_pretrained)\n",
    "\n",
    "tokenizer = joblib.load('my_tokenizer')\n",
    "model = joblib.load('my_model')"
   ]
  },
  {
   "cell_type": "markdown",
   "id": "479ba91b-dc31-4f26-8681-bf8bf047cadb",
   "metadata": {},
   "source": [
    "## Defining Training Classes and Functions"
   ]
  },
  {
   "cell_type": "markdown",
   "id": "51239ea2-9589-45ee-a69b-72723c28ffca",
   "metadata": {},
   "source": [
    "### Defining Dataset Class"
   ]
  },
  {
   "cell_type": "code",
   "execution_count": 6,
   "id": "622fc639-a0aa-4eaf-9ef4-01b4ebc56009",
   "metadata": {},
   "outputs": [],
   "source": [
    "class GermanEnglishDataset(Dataset):\n",
    "    def __init__(self, german_texts, english_texts,  max_len):\n",
    "        self.german_texts = german_texts\n",
    "        self.english_texts = english_texts\n",
    "        self.max_len = max_len\n",
    "\n",
    "    def __len__(self):\n",
    "        return len(self.german_texts)\n",
    "\n",
    "    def __getitem__(self, index):\n",
    "        german_text = str(self.german_texts[index])\n",
    "        english_text = str(self.english_texts[index])\n",
    "\n",
    "        input_ids = tokenizer.encode(\n",
    "            german_text,\n",
    "            add_special_tokens=True,\n",
    "            max_length=self.max_len,\n",
    "            truncation=True,\n",
    "            padding=\"max_length\",\n",
    "            return_tensors=\"pt\"\n",
    "        )\n",
    "\n",
    "        target_ids = tokenizer.encode(\n",
    "            english_text,\n",
    "            add_special_tokens=True,\n",
    "            max_length=self.max_len,\n",
    "            truncation=True,\n",
    "            padding=\"max_length\",\n",
    "            return_tensors=\"pt\"\n",
    "        )\n",
    "\n",
    "        return {\n",
    "            \"input_ids\": input_ids.flatten(),\n",
    "            \"attention_mask\": input_ids != 0,\n",
    "            \"target_ids\": target_ids.flatten(),\n",
    "            \"target_attention_mask\": target_ids != 0\n",
    "        }"
   ]
  },
  {
   "cell_type": "markdown",
   "id": "9f492e9e-12fc-4058-b27f-241482045867",
   "metadata": {},
   "source": [
    "### Defining Scoring Functions"
   ]
  },
  {
   "cell_type": "code",
   "execution_count": 7,
   "id": "885237af-03c9-4bad-91f4-f6cded9d2213",
   "metadata": {},
   "outputs": [],
   "source": [
    "def predict_english_sentences(german_sentences, model,  device):\n",
    "    english_sentences = []\n",
    "    for german_sentence in tqdm.tqdm(german_sentences):\n",
    "        input_ids = tokenizer.encode(\n",
    "            german_sentence,\n",
    "            add_special_tokens=True,\n",
    "            max_length=generation_max_len,\n",
    "            truncation=True,\n",
    "            padding=\"max_length\",\n",
    "            return_tensors=\"pt\"\n",
    "        ).to(device)\n",
    "        outputs = model.to(device).generate(input_ids=input_ids, max_length=generation_max_len, num_beams=4, early_stopping=True)\n",
    "        english_sentence = tokenizer.decode(outputs[0], skip_special_tokens=True)\n",
    "        english_sentences.append(english_sentence)\n",
    "    return english_sentences\n",
    "\n",
    "def calculate_bleu_score(model,device):\n",
    "    actual_english_sentences = val_english_sentences[0:5]\n",
    "    # Predict English sentences from a list of German sentences\n",
    "    german_sentences = val_german_sentences[0:5]\n",
    "    english_sentences_pred = predict_english_sentences(german_sentences, model,  device)\n",
    "    print(f'{actual_english_sentences=}')\n",
    "    print(f'{english_sentences_pred=}')\n",
    "    \n",
    "    bleu_score = project_evaluate.compute_metrics(english_sentences_pred,actual_english_sentences)\n",
    "    # project_evaluate.compute_metrics(trnqaslated_list,test_data[1])\n",
    "    # bleu_score = corpus_bleu(actual_sentences, predicted_sentences)\n",
    "    print(f'BLEU score: {bleu_score:.2f}')\n",
    "    return bleu_score\n"
   ]
  },
  {
   "cell_type": "markdown",
   "id": "c219cca1-2956-4468-ad0f-05d503fe3634",
   "metadata": {},
   "source": [
    "### Defining Training Functions"
   ]
  },
  {
   "cell_type": "markdown",
   "id": "0a18cc91",
   "metadata": {},
   "source": [
    "#### Training Using Custom Designed `bleu_loss` Function"
   ]
  },
  {
   "cell_type": "code",
   "execution_count": 8,
   "id": "95c0bd04",
   "metadata": {},
   "outputs": [],
   "source": [
    "# # ## Training with bleu_loss\n",
    "\n",
    "# import numpy as np\n",
    "# import torch\n",
    "# import nltk\n",
    "\n",
    "# # Set up data loaders\n",
    "# train_dataset = GermanEnglishDataset(train_german_sentences,train_english_sentences,  max_len=generation_max_len)\n",
    "# val_dataset = GermanEnglishDataset(val_german_sentences,val_english_sentences,  max_len=generation_max_len)\n",
    "\n",
    "# train_dataloader = DataLoader(train_dataset, batch_size=45, shuffle=True)\n",
    "# val_dataloader = DataLoader(val_dataset, batch_size=45, shuffle=False)\n",
    "\n",
    "\n",
    "# model = joblib.load('my_model_bleu_loss')\n",
    "\n",
    "# # Set up optimizer and scheduler\n",
    "# optimizer = torch.optim.AdamW(model.parameters(), lr=LR)\n",
    "# num_train_steps = int(len(train_dataset) / 16 * 10)\n",
    "# scheduler = get_linear_schedule_with_warmup(\n",
    "#     optimizer,\n",
    "#     num_warmup_steps=0,\n",
    "#     num_training_steps=num_train_steps\n",
    "# )\n",
    "\n",
    "# import sacrebleu\n",
    "\n",
    "# def bleu_loss(target_ids, logits):\n",
    "#     # Convert target_ids to text\n",
    "#     references = [\"\".join([str(token.item()) for token in sentence if token != 0]) for sentence in target_ids]\n",
    "    \n",
    "#     # Convert logits to text\n",
    "#     predictions = [\"\".join([str(torch.argmax(token).item()) for token in sentence if torch.argmax(token).item() != 0]) for sentence in logits]\n",
    "    \n",
    "#     # Calculate sacrebleu score\n",
    "#     bleu_score = sacrebleu.corpus_bleu(predictions, [references])\n",
    "    \n",
    "#     # Return negative bleu_score as the loss\n",
    "#     return -torch.tensor(bleu_score.score, dtype=torch.float32, requires_grad=True)\n",
    "\n",
    "# for epoch in range(TRAINING_EPOCHS):\n",
    "#     model.train()\n",
    "#     total_loss = 0\n",
    "#     for step, batch in tqdm.tqdm(enumerate(train_dataloader)):\n",
    "#         batch = {k: v.to(device) for k, v in batch.items()}\n",
    "#         optimizer.zero_grad()\n",
    "#         outputs = model(\n",
    "#             input_ids=batch[\"input_ids\"],\n",
    "#             attention_mask=batch[\"attention_mask\"],\n",
    "#             labels=batch[\"target_ids\"],\n",
    "#             decoder_attention_mask=batch[\"target_attention_mask\"],\n",
    "#             return_dict=True\n",
    "#         )\n",
    "#         loss = bleu_loss(batch[\"target_ids\"], outputs.logits)\n",
    "#         total_loss += loss.item()\n",
    "#         loss.backward()\n",
    "#         torch.nn.utils.clip_grad_norm_(model.parameters(), max_norm=1.0)\n",
    "#         optimizer.step()\n",
    "#         scheduler.step()\n",
    "        \n",
    "# #         joblib.dump(model,'my_model')\n",
    "# #         bleu_score = calculate_bleu_score(model, device)\n",
    "        \n",
    "#     avg_train_loss = total_loss / len(train_dataloader)\n",
    "\n",
    "#     # Evaluate on validation set\n",
    "#     model.eval()\n",
    "#     total_val_loss = 0\n",
    "#     with torch.no_grad():\n",
    "#         for step, batch in enumerate(val_dataloader):\n",
    "#             batch = {k: v.to(device) for k, v in batch.items()}\n",
    "#             outputs = model(\n",
    "#                 input_ids=batch[\"input_ids\"],\n",
    "#                 attention_mask=batch[\"attention_mask\"],\n",
    "#                 labels=batch[\"target_ids\"],\n",
    "#                 decoder_attention_mask=batch[\"target_attention_mask\"],\n",
    "#                 return_dict=True\n",
    "#             )\n",
    "#             loss = bleu_loss(batch[\"target_ids\"], outputs.logits)\n",
    "#             total_val_loss += loss.item()\n",
    "#         avg_val_loss = total_val_loss / len(val_dataloader)\n",
    "        \n",
    "#     joblib.dump(model,'my_model_bleu_loss')\n",
    "#     print(f\"Epoch {epoch + 1}: Train loss = {avg_train_loss:.3f}, Val loss = {avg_val_loss:.3f}\")"
   ]
  },
  {
   "cell_type": "code",
   "execution_count": 9,
   "id": "49d0209d",
   "metadata": {},
   "outputs": [],
   "source": [
    "# joblib.dump(model,'my_model_bleu_loss')"
   ]
  },
  {
   "cell_type": "code",
   "execution_count": 10,
   "id": "7c1e85d3",
   "metadata": {},
   "outputs": [],
   "source": [
    "# import nltk\n",
    "# nltk.download('punkt')"
   ]
  },
  {
   "cell_type": "markdown",
   "id": "4b6274fd",
   "metadata": {},
   "source": [
    "#### Calculating Using Regular Loss Function"
   ]
  },
  {
   "cell_type": "code",
   "execution_count": 11,
   "id": "e3a981a9-44eb-45f2-9813-2e1da32843fb",
   "metadata": {},
   "outputs": [],
   "source": [
    "def train(model, train_dataloader, val_dataloader, optimizer, scheduler, device, epochs):\n",
    "    global LR\n",
    "    last_valid_loss = 9999\n",
    "    last_training_loss = 9999\n",
    "\n",
    "    for epoch in range(epochs):\n",
    "        model.train()\n",
    "        total_loss = 0\n",
    "        for step, batch in enumerate(train_dataloader):\n",
    "            batch = {k: v.to(device) for k, v in batch.items()}\n",
    "            optimizer.zero_grad()\n",
    "            outputs = model(\n",
    "                input_ids=batch[\"input_ids\"],\n",
    "                attention_mask=batch[\"attention_mask\"],\n",
    "                labels=batch[\"target_ids\"],\n",
    "                decoder_attention_mask=batch[\"target_attention_mask\"],\n",
    "                return_dict=True\n",
    "            )\n",
    "            loss = outputs.loss\n",
    "            total_loss += loss.item()\n",
    "            loss.backward()\n",
    "            torch.nn.utils.clip_grad_norm_(model.parameters(), max_norm=1.0)\n",
    "            optimizer.step()\n",
    "            scheduler.step()\n",
    "        avg_train_loss = total_loss / len(train_dataloader)\n",
    "\n",
    "        # Evaluate on validation set\n",
    "        model.eval()\n",
    "        total_val_loss = 0\n",
    "        with torch.no_grad():\n",
    "            for step, batch in enumerate(val_dataloader):\n",
    "                batch = {k: v.to(device) for k, v in batch.items()}\n",
    "                outputs = model(\n",
    "                    input_ids=batch[\"input_ids\"],\n",
    "                    attention_mask=batch[\"attention_mask\"],\n",
    "                    labels=batch[\"target_ids\"],\n",
    "                    decoder_attention_mask=batch[\"target_attention_mask\"],\n",
    "                    return_dict=True\n",
    "                )\n",
    "                loss = outputs.loss\n",
    "                total_val_loss += loss.item()\n",
    "        avg_val_loss = total_val_loss / len(val_dataloader)\n",
    "\n",
    "        # Calculate BLEU score\n",
    "        bleu_score = calculate_bleu_score(model, device)\n",
    "\n",
    "        # Print metrics\n",
    "        print(f'{epoch=}')\n",
    "        print(f'{bleu_score=}')\n",
    "        print(f'{avg_train_loss=}')\n",
    "        print(f'{avg_val_loss=}')\n",
    "\n",
    "        # torch.save(model.state_dict(), local_model_filename)\n",
    "        if(avg_val_loss<last_valid_loss):\n",
    "            joblib.dump(model,'my_model')\n",
    "\n",
    "        if(last_training_loss<avg_train_loss):\n",
    "            LR = LR*0.9\n",
    "            optimizer = torch.optim.AdamW(model.parameters(), lr=LR,betas=(0.9, 0.98), eps=1e-5)\n",
    "            print(f'{LR=}')\n",
    "            \n",
    "        if(last_training_loss==avg_train_loss):\n",
    "            LR = LR*1.1\n",
    "            optimizer = torch.optim.AdamW(model.parameters(), lr=LR,betas=(0.9, 0.98), eps=1e-5)\n",
    "            print(f'{LR=}')\n",
    "        last_valid_loss = avg_val_loss\n",
    "        last_training_loss = avg_train_loss"
   ]
  },
  {
   "cell_type": "markdown",
   "id": "79bb98e9-2c24-45d1-a7eb-85c9fd0e4d2b",
   "metadata": {
    "tags": []
   },
   "source": [
    "## Running Training Process"
   ]
  },
  {
   "cell_type": "code",
   "execution_count": 12,
   "id": "bff7de3c-b160-46b1-9256-b6aa4e6b93fa",
   "metadata": {
    "scrolled": false
   },
   "outputs": [
    {
     "name": "stderr",
     "output_type": "stream",
     "text": [
      "100%|██████████| 5/5 [00:06<00:00,  1.31s/it]\n"
     ]
    },
    {
     "data": {
      "text/html": [
       "<pre style=\"white-space:pre;overflow-x:auto;line-height:normal;font-family:Menlo,'DejaVu Sans Mono',consolas,'Courier New',monospace\"><span style=\"color: #808000; text-decoration-color: #808000\">actual_english_sentences</span>=<span style=\"font-weight: bold\">[</span><span style=\"color: #008000; text-decoration-color: #008000\">'And deeper emissions cuts like those proposed by the European Union – 20% below 1990 </span>\n",
       "<span style=\"color: #008000; text-decoration-color: #008000\">levels within 12 years – would reduce global temperatures by only one-sixtieth of one degree Celsius (one-thirtieth</span>\n",
       "<span style=\"color: #008000; text-decoration-color: #008000\">of one degree Fahrenheit) by 2100, at a cost of $10 trillion. For every dollar spent, we would do just four cents </span>\n",
       "<span style=\"color: #008000; text-decoration-color: #008000\">worth of good.'</span>, <span style=\"color: #008000; text-decoration-color: #008000\">'Some Iranian reformers and exiles put a bright face on Ahmadinejad’s election, arguing that his </span>\n",
       "<span style=\"color: #008000; text-decoration-color: #008000\">administration is more likely to show the regime’s real face and disabuse any Western hopes of compromise. Yet it </span>\n",
       "<span style=\"color: #008000; text-decoration-color: #008000\">may also represent the regime’s success at co-opting dissatisfaction with a quarter-century of radical Islamist </span>\n",
       "<span style=\"color: #008000; text-decoration-color: #008000\">rule. Whatever the outcome, for the West, Ahmadinejad’s victory means that everything related to Iran is set to </span>\n",
       "<span style=\"color: #008000; text-decoration-color: #008000\">become even hotter.'</span>, <span style=\"color: #008000; text-decoration-color: #008000\">'The very structure of society has come to be shaky. There are no social groups on which </span>\n",
       "<span style=\"color: #008000; text-decoration-color: #008000\">lasting organizations can be built. People are, in a sense, socially homeless. This means that their interests vary</span>\n",
       "<span style=\"color: #008000; text-decoration-color: #008000\">as situations change. It also means that they no longer find a political home in parties, but react to situations, </span>\n",
       "<span style=\"color: #008000; text-decoration-color: #008000\">to vague moods, and above all to appeals to sentiments, if not resentments.'</span>, <span style=\"color: #008000; text-decoration-color: #008000\">'Though India’s merchandise exports </span>\n",
       "<span style=\"color: #008000; text-decoration-color: #008000\">did register declines of about 30%, its exports of services continued to do well throughout the crisis. Indians </span>\n",
       "<span style=\"color: #008000; text-decoration-color: #008000\">abroad stayed loyal to India: remittances from overseas Indians remained robust, reaching $46.4 billion in </span>\n",
       "<span style=\"color: #008000; text-decoration-color: #008000\">2008-2009, the bulk of which came from the mainly blue-collar Indian expatriate community in the Gulf countries.'</span>, \n",
       "<span style=\"color: #008000; text-decoration-color: #008000\">'Second, Bernanke is the best among his peers. He did eventually come to understand the nature and severity of the </span>\n",
       "<span style=\"color: #008000; text-decoration-color: #008000\">crisis, and then took decisive steps that contributed to halting the economic freefall. That record, combined with </span>\n",
       "<span style=\"color: #008000; text-decoration-color: #008000\">doubts that any of his peers would have done better, means replacing him with another mainstream candidate makes </span>\n",
       "<span style=\"color: #008000; text-decoration-color: #008000\">little sense.'</span><span style=\"font-weight: bold\">]</span>\n",
       "</pre>\n"
      ],
      "text/plain": [
       "\u001b[33mactual_english_sentences\u001b[0m=\u001b[1m[\u001b[0m\u001b[32m'And deeper emissions cuts like those proposed by the European Union – 20% below 1990 \u001b[0m\n",
       "\u001b[32mlevels within 12 years – would reduce global temperatures by only one-sixtieth of one degree Celsius \u001b[0m\u001b[32m(\u001b[0m\u001b[32mone-thirtieth\u001b[0m\n",
       "\u001b[32mof one degree Fahrenheit\u001b[0m\u001b[32m)\u001b[0m\u001b[32m by 2100, at a cost of $10 trillion. For every dollar spent, we would do just four cents \u001b[0m\n",
       "\u001b[32mworth of good.'\u001b[0m, \u001b[32m'Some Iranian reformers and exiles put a bright face on Ahmadinejad’s election, arguing that his \u001b[0m\n",
       "\u001b[32madministration is more likely to show the regime’s real face and disabuse any Western hopes of compromise. Yet it \u001b[0m\n",
       "\u001b[32mmay also represent the regime’s success at co-opting dissatisfaction with a quarter-century of radical Islamist \u001b[0m\n",
       "\u001b[32mrule. Whatever the outcome, for the West, Ahmadinejad’s victory means that everything related to Iran is set to \u001b[0m\n",
       "\u001b[32mbecome even hotter.'\u001b[0m, \u001b[32m'The very structure of society has come to be shaky. There are no social groups on which \u001b[0m\n",
       "\u001b[32mlasting organizations can be built. People are, in a sense, socially homeless. This means that their interests vary\u001b[0m\n",
       "\u001b[32mas situations change. It also means that they no longer find a political home in parties, but react to situations, \u001b[0m\n",
       "\u001b[32mto vague moods, and above all to appeals to sentiments, if not resentments.'\u001b[0m, \u001b[32m'Though India’s merchandise exports \u001b[0m\n",
       "\u001b[32mdid register declines of about 30%, its exports of services continued to do well throughout the crisis. Indians \u001b[0m\n",
       "\u001b[32mabroad stayed loyal to India: remittances from overseas Indians remained robust, reaching $46.4 billion in \u001b[0m\n",
       "\u001b[32m2008-2009, the bulk of which came from the mainly blue-collar Indian expatriate community in the Gulf countries.'\u001b[0m, \n",
       "\u001b[32m'Second, Bernanke is the best among his peers. He did eventually come to understand the nature and severity of the \u001b[0m\n",
       "\u001b[32mcrisis, and then took decisive steps that contributed to halting the economic freefall. That record, combined with \u001b[0m\n",
       "\u001b[32mdoubts that any of his peers would have done better, means replacing him with another mainstream candidate makes \u001b[0m\n",
       "\u001b[32mlittle sense.'\u001b[0m\u001b[1m]\u001b[0m\n"
      ]
     },
     "metadata": {},
     "output_type": "display_data"
    },
    {
     "data": {
      "text/html": [
       "<pre style=\"white-space:pre;overflow-x:auto;line-height:normal;font-family:Menlo,'DejaVu Sans Mono',consolas,'Courier New',monospace\"><span style=\"color: #808000; text-decoration-color: #808000\">english_sentences_pred</span>=<span style=\"font-weight: bold\">[</span><span style=\"color: #008000; text-decoration-color: #008000\">'And more serious cuts, like the cuts proposed by the EU – 20% below 1990’s levels within </span>\n",
       "<span style=\"color: #008000; text-decoration-color: #008000\">12 years – would reduce global temperatures by only a six-digit Celsius (roughly nine times Fahrenheit), and at a </span>\n",
       "<span style=\"color: #008000; text-decoration-color: #008000\">cost of $10 trillion. For every dollar spent, we would have achieved only four cents lower than the 1990’s within </span>\n",
       "<span style=\"color: #008000; text-decoration-color: #008000\">12 years – would reduce global temperatures by just six degrees Celsius (roughly six degrees Fahrenheit) – at a </span>\n",
       "<span style=\"color: #008000; text-decoration-color: #008000\">cost of $10 trillion. For every dollar spent, we would have reached only four cents of value.'</span>, <span style=\"color: #008000; text-decoration-color: #008000\">'Some Iranian </span>\n",
       "<span style=\"color: #008000; text-decoration-color: #008000\">reformers and exilers have kindly defended Ahmadinejad’s election with the argument that his government is likely </span>\n",
       "<span style=\"color: #008000; text-decoration-color: #008000\">to show the regime’s true face and destroy all Western hopes for compromise. But it can also reflect the regime’s </span>\n",
       "<span style=\"color: #008000; text-decoration-color: #008000\">success in neutralizing the discontent over a quarter-century of radical Islamic rule. Regardless of the outcome, </span>\n",
       "<span style=\"color: #008000; text-decoration-color: #008000\">Ahmadinejad’s victory means that everything to do with Iran is likely to be even more difficult.'</span>, <span style=\"color: #008000; text-decoration-color: #008000\">'The social </span>\n",
       "<span style=\"color: #008000; text-decoration-color: #008000\">structure of society has become unstable. There are no social groups on which to build lasting organizations. </span>\n",
       "<span style=\"color: #008000; text-decoration-color: #008000\">People are in some ways socially hompathetic. This means that their interests vary according to situation. But it </span>\n",
       "<span style=\"color: #008000; text-decoration-color: #008000\">also means that parties no longer provide political homes, but that they respond to situations, diffuse emotions, </span>\n",
       "<span style=\"color: #008000; text-decoration-color: #008000\">and, most important, to appeals to their feelings, if not to their displeasure.'</span>, <span style=\"color: #008000; text-decoration-color: #008000\">'Although India’s goods exports </span>\n",
       "<span style=\"color: #008000; text-decoration-color: #008000\">have suffered a decline of about 30%, its service exports have continued to do well throughout the crisis. Indians </span>\n",
       "<span style=\"color: #008000; text-decoration-color: #008000\">have stayed home: overseas remittances have remained stable, and in 2008-2009 they reached $46.4 billion, largely </span>\n",
       "<span style=\"color: #008000; text-decoration-color: #008000\">coming from mostly Indian workers in the Gulf States.'</span>, <span style=\"color: #008000; text-decoration-color: #008000\">'Second, Bernanke is the best among his fellows. After all,</span>\n",
       "<span style=\"color: #008000; text-decoration-color: #008000\">he has understood the nature and severity of the crisis, and then took a measured step that has helped to prevent </span>\n",
       "<span style=\"color: #008000; text-decoration-color: #008000\">the free-fall. This achievement, together with doubts about whether another one would have done better, makes it </span>\n",
       "<span style=\"color: #008000; text-decoration-color: #008000\">not advisable to replace him by another candidate from the establishment.'</span><span style=\"font-weight: bold\">]</span>\n",
       "</pre>\n"
      ],
      "text/plain": [
       "\u001b[33menglish_sentences_pred\u001b[0m=\u001b[1m[\u001b[0m\u001b[32m'And more serious cuts, like the cuts proposed by the EU – 20% below 1990’s levels within \u001b[0m\n",
       "\u001b[32m12 years – would reduce global temperatures by only a six-digit Celsius \u001b[0m\u001b[32m(\u001b[0m\u001b[32mroughly nine times Fahrenheit\u001b[0m\u001b[32m)\u001b[0m\u001b[32m, and at a \u001b[0m\n",
       "\u001b[32mcost of $10 trillion. For every dollar spent, we would have achieved only four cents lower than the 1990’s within \u001b[0m\n",
       "\u001b[32m12 years – would reduce global temperatures by just six degrees Celsius \u001b[0m\u001b[32m(\u001b[0m\u001b[32mroughly six degrees Fahrenheit\u001b[0m\u001b[32m)\u001b[0m\u001b[32m – at a \u001b[0m\n",
       "\u001b[32mcost of $10 trillion. For every dollar spent, we would have reached only four cents of value.'\u001b[0m, \u001b[32m'Some Iranian \u001b[0m\n",
       "\u001b[32mreformers and exilers have kindly defended Ahmadinejad’s election with the argument that his government is likely \u001b[0m\n",
       "\u001b[32mto show the regime’s true face and destroy all Western hopes for compromise. But it can also reflect the regime’s \u001b[0m\n",
       "\u001b[32msuccess in neutralizing the discontent over a quarter-century of radical Islamic rule. Regardless of the outcome, \u001b[0m\n",
       "\u001b[32mAhmadinejad’s victory means that everything to do with Iran is likely to be even more difficult.'\u001b[0m, \u001b[32m'The social \u001b[0m\n",
       "\u001b[32mstructure of society has become unstable. There are no social groups on which to build lasting organizations. \u001b[0m\n",
       "\u001b[32mPeople are in some ways socially hompathetic. This means that their interests vary according to situation. But it \u001b[0m\n",
       "\u001b[32malso means that parties no longer provide political homes, but that they respond to situations, diffuse emotions, \u001b[0m\n",
       "\u001b[32mand, most important, to appeals to their feelings, if not to their displeasure.'\u001b[0m, \u001b[32m'Although India’s goods exports \u001b[0m\n",
       "\u001b[32mhave suffered a decline of about 30%, its service exports have continued to do well throughout the crisis. Indians \u001b[0m\n",
       "\u001b[32mhave stayed home: overseas remittances have remained stable, and in 2008-2009 they reached $46.4 billion, largely \u001b[0m\n",
       "\u001b[32mcoming from mostly Indian workers in the Gulf States.'\u001b[0m, \u001b[32m'Second, Bernanke is the best among his fellows. After all,\u001b[0m\n",
       "\u001b[32mhe has understood the nature and severity of the crisis, and then took a measured step that has helped to prevent \u001b[0m\n",
       "\u001b[32mthe free-fall. This achievement, together with doubts about whether another one would have done better, makes it \u001b[0m\n",
       "\u001b[32mnot advisable to replace him by another candidate from the establishment.'\u001b[0m\u001b[1m]\u001b[0m\n"
      ]
     },
     "metadata": {},
     "output_type": "display_data"
    },
    {
     "data": {
      "text/html": [
       "<pre style=\"white-space:pre;overflow-x:auto;line-height:normal;font-family:Menlo,'DejaVu Sans Mono',consolas,'Courier New',monospace\">BLEU score: <span style=\"color: #008080; text-decoration-color: #008080; font-weight: bold\">30.69</span>\n",
       "</pre>\n"
      ],
      "text/plain": [
       "BLEU score: \u001b[1;36m30.69\u001b[0m\n"
      ]
     },
     "metadata": {},
     "output_type": "display_data"
    },
    {
     "data": {
      "text/html": [
       "<pre style=\"white-space:pre;overflow-x:auto;line-height:normal;font-family:Menlo,'DejaVu Sans Mono',consolas,'Courier New',monospace\"><span style=\"color: #808000; text-decoration-color: #808000\">epoch</span>=<span style=\"color: #008080; text-decoration-color: #008080; font-weight: bold\">0</span>\n",
       "</pre>\n"
      ],
      "text/plain": [
       "\u001b[33mepoch\u001b[0m=\u001b[1;36m0\u001b[0m\n"
      ]
     },
     "metadata": {},
     "output_type": "display_data"
    },
    {
     "data": {
      "text/html": [
       "<pre style=\"white-space:pre;overflow-x:auto;line-height:normal;font-family:Menlo,'DejaVu Sans Mono',consolas,'Courier New',monospace\"><span style=\"color: #808000; text-decoration-color: #808000\">bleu_score</span>=<span style=\"color: #008080; text-decoration-color: #008080; font-weight: bold\">30.69</span>\n",
       "</pre>\n"
      ],
      "text/plain": [
       "\u001b[33mbleu_score\u001b[0m=\u001b[1;36m30\u001b[0m\u001b[1;36m.69\u001b[0m\n"
      ]
     },
     "metadata": {},
     "output_type": "display_data"
    },
    {
     "data": {
      "text/html": [
       "<pre style=\"white-space:pre;overflow-x:auto;line-height:normal;font-family:Menlo,'DejaVu Sans Mono',consolas,'Courier New',monospace\"><span style=\"color: #808000; text-decoration-color: #808000\">avg_train_loss</span>=<span style=\"color: #008080; text-decoration-color: #008080; font-weight: bold\">0.3399496253553804</span>\n",
       "</pre>\n"
      ],
      "text/plain": [
       "\u001b[33mavg_train_loss\u001b[0m=\u001b[1;36m0\u001b[0m\u001b[1;36m.3399496253553804\u001b[0m\n"
      ]
     },
     "metadata": {},
     "output_type": "display_data"
    },
    {
     "data": {
      "text/html": [
       "<pre style=\"white-space:pre;overflow-x:auto;line-height:normal;font-family:Menlo,'DejaVu Sans Mono',consolas,'Courier New',monospace\"><span style=\"color: #808000; text-decoration-color: #808000\">avg_val_loss</span>=<span style=\"color: #008080; text-decoration-color: #008080; font-weight: bold\">0.5655561327934265</span>\n",
       "</pre>\n"
      ],
      "text/plain": [
       "\u001b[33mavg_val_loss\u001b[0m=\u001b[1;36m0\u001b[0m\u001b[1;36m.5655561327934265\u001b[0m\n"
      ]
     },
     "metadata": {},
     "output_type": "display_data"
    },
    {
     "name": "stderr",
     "output_type": "stream",
     "text": [
      "100%|██████████| 5/5 [00:05<00:00,  1.14s/it]\n"
     ]
    },
    {
     "data": {
      "text/html": [
       "<pre style=\"white-space:pre;overflow-x:auto;line-height:normal;font-family:Menlo,'DejaVu Sans Mono',consolas,'Courier New',monospace\"><span style=\"color: #808000; text-decoration-color: #808000\">actual_english_sentences</span>=<span style=\"font-weight: bold\">[</span><span style=\"color: #008000; text-decoration-color: #008000\">'And deeper emissions cuts like those proposed by the European Union – 20% below 1990 </span>\n",
       "<span style=\"color: #008000; text-decoration-color: #008000\">levels within 12 years – would reduce global temperatures by only one-sixtieth of one degree Celsius (one-thirtieth</span>\n",
       "<span style=\"color: #008000; text-decoration-color: #008000\">of one degree Fahrenheit) by 2100, at a cost of $10 trillion. For every dollar spent, we would do just four cents </span>\n",
       "<span style=\"color: #008000; text-decoration-color: #008000\">worth of good.'</span>, <span style=\"color: #008000; text-decoration-color: #008000\">'Some Iranian reformers and exiles put a bright face on Ahmadinejad’s election, arguing that his </span>\n",
       "<span style=\"color: #008000; text-decoration-color: #008000\">administration is more likely to show the regime’s real face and disabuse any Western hopes of compromise. Yet it </span>\n",
       "<span style=\"color: #008000; text-decoration-color: #008000\">may also represent the regime’s success at co-opting dissatisfaction with a quarter-century of radical Islamist </span>\n",
       "<span style=\"color: #008000; text-decoration-color: #008000\">rule. Whatever the outcome, for the West, Ahmadinejad’s victory means that everything related to Iran is set to </span>\n",
       "<span style=\"color: #008000; text-decoration-color: #008000\">become even hotter.'</span>, <span style=\"color: #008000; text-decoration-color: #008000\">'The very structure of society has come to be shaky. There are no social groups on which </span>\n",
       "<span style=\"color: #008000; text-decoration-color: #008000\">lasting organizations can be built. People are, in a sense, socially homeless. This means that their interests vary</span>\n",
       "<span style=\"color: #008000; text-decoration-color: #008000\">as situations change. It also means that they no longer find a political home in parties, but react to situations, </span>\n",
       "<span style=\"color: #008000; text-decoration-color: #008000\">to vague moods, and above all to appeals to sentiments, if not resentments.'</span>, <span style=\"color: #008000; text-decoration-color: #008000\">'Though India’s merchandise exports </span>\n",
       "<span style=\"color: #008000; text-decoration-color: #008000\">did register declines of about 30%, its exports of services continued to do well throughout the crisis. Indians </span>\n",
       "<span style=\"color: #008000; text-decoration-color: #008000\">abroad stayed loyal to India: remittances from overseas Indians remained robust, reaching $46.4 billion in </span>\n",
       "<span style=\"color: #008000; text-decoration-color: #008000\">2008-2009, the bulk of which came from the mainly blue-collar Indian expatriate community in the Gulf countries.'</span>, \n",
       "<span style=\"color: #008000; text-decoration-color: #008000\">'Second, Bernanke is the best among his peers. He did eventually come to understand the nature and severity of the </span>\n",
       "<span style=\"color: #008000; text-decoration-color: #008000\">crisis, and then took decisive steps that contributed to halting the economic freefall. That record, combined with </span>\n",
       "<span style=\"color: #008000; text-decoration-color: #008000\">doubts that any of his peers would have done better, means replacing him with another mainstream candidate makes </span>\n",
       "<span style=\"color: #008000; text-decoration-color: #008000\">little sense.'</span><span style=\"font-weight: bold\">]</span>\n",
       "</pre>\n"
      ],
      "text/plain": [
       "\u001b[33mactual_english_sentences\u001b[0m=\u001b[1m[\u001b[0m\u001b[32m'And deeper emissions cuts like those proposed by the European Union – 20% below 1990 \u001b[0m\n",
       "\u001b[32mlevels within 12 years – would reduce global temperatures by only one-sixtieth of one degree Celsius \u001b[0m\u001b[32m(\u001b[0m\u001b[32mone-thirtieth\u001b[0m\n",
       "\u001b[32mof one degree Fahrenheit\u001b[0m\u001b[32m)\u001b[0m\u001b[32m by 2100, at a cost of $10 trillion. For every dollar spent, we would do just four cents \u001b[0m\n",
       "\u001b[32mworth of good.'\u001b[0m, \u001b[32m'Some Iranian reformers and exiles put a bright face on Ahmadinejad’s election, arguing that his \u001b[0m\n",
       "\u001b[32madministration is more likely to show the regime’s real face and disabuse any Western hopes of compromise. Yet it \u001b[0m\n",
       "\u001b[32mmay also represent the regime’s success at co-opting dissatisfaction with a quarter-century of radical Islamist \u001b[0m\n",
       "\u001b[32mrule. Whatever the outcome, for the West, Ahmadinejad’s victory means that everything related to Iran is set to \u001b[0m\n",
       "\u001b[32mbecome even hotter.'\u001b[0m, \u001b[32m'The very structure of society has come to be shaky. There are no social groups on which \u001b[0m\n",
       "\u001b[32mlasting organizations can be built. People are, in a sense, socially homeless. This means that their interests vary\u001b[0m\n",
       "\u001b[32mas situations change. It also means that they no longer find a political home in parties, but react to situations, \u001b[0m\n",
       "\u001b[32mto vague moods, and above all to appeals to sentiments, if not resentments.'\u001b[0m, \u001b[32m'Though India’s merchandise exports \u001b[0m\n",
       "\u001b[32mdid register declines of about 30%, its exports of services continued to do well throughout the crisis. Indians \u001b[0m\n",
       "\u001b[32mabroad stayed loyal to India: remittances from overseas Indians remained robust, reaching $46.4 billion in \u001b[0m\n",
       "\u001b[32m2008-2009, the bulk of which came from the mainly blue-collar Indian expatriate community in the Gulf countries.'\u001b[0m, \n",
       "\u001b[32m'Second, Bernanke is the best among his peers. He did eventually come to understand the nature and severity of the \u001b[0m\n",
       "\u001b[32mcrisis, and then took decisive steps that contributed to halting the economic freefall. That record, combined with \u001b[0m\n",
       "\u001b[32mdoubts that any of his peers would have done better, means replacing him with another mainstream candidate makes \u001b[0m\n",
       "\u001b[32mlittle sense.'\u001b[0m\u001b[1m]\u001b[0m\n"
      ]
     },
     "metadata": {},
     "output_type": "display_data"
    },
    {
     "data": {
      "text/html": [
       "<pre style=\"white-space:pre;overflow-x:auto;line-height:normal;font-family:Menlo,'DejaVu Sans Mono',consolas,'Courier New',monospace\"><span style=\"color: #808000; text-decoration-color: #808000\">english_sentences_pred</span>=<span style=\"font-weight: bold\">[</span><span style=\"color: #008000; text-decoration-color: #008000\">'And more serious cuts, such as those proposed by the EU – 20% below 1990’s levels within </span>\n",
       "<span style=\"color: #008000; text-decoration-color: #008000\">12 years – would reduce global temperatures by only a sixth-grade Celsius (roughly nine times Fahrenheit), at a </span>\n",
       "<span style=\"color: #008000; text-decoration-color: #008000\">cost of $10 trillion. For every dollar spent, we would have achieved only four cents of value.'</span>, <span style=\"color: #008000; text-decoration-color: #008000\">'Some Iranian </span>\n",
       "<span style=\"color: #008000; text-decoration-color: #008000\">reformers and exilers have kindly defended Ahmadinejad’s election with the argument that his government is likely </span>\n",
       "<span style=\"color: #008000; text-decoration-color: #008000\">to show the regime’s true face and destroy all Western hopes for compromise. But it also can reflect the regime’s </span>\n",
       "<span style=\"color: #008000; text-decoration-color: #008000\">success in neutralizing the discontent over a quarter-century of radical Islamic rule. Regardless of the outcome, </span>\n",
       "<span style=\"color: #008000; text-decoration-color: #008000\">Ahmadinejad’s victory means that everything to do with Iran is likely to be even more difficult.'</span>, <span style=\"color: #008000; text-decoration-color: #008000\">'The social </span>\n",
       "<span style=\"color: #008000; text-decoration-color: #008000\">structure of society has become unstable. There are no social groups on which to build lasting organizations. </span>\n",
       "<span style=\"color: #008000; text-decoration-color: #008000\">People are in some ways socially hompathetic. This means that their interests vary according to situation. But it </span>\n",
       "<span style=\"color: #008000; text-decoration-color: #008000\">also means that parties no longer provide political homes, but that they respond to situations, diffuse emotions, </span>\n",
       "<span style=\"color: #008000; text-decoration-color: #008000\">and, above all, to appeals to their feelings, if not to their displeasure.'</span>, <span style=\"color: #008000; text-decoration-color: #008000\">'Although India’s goods exports have </span>\n",
       "<span style=\"color: #008000; text-decoration-color: #008000\">suffered a decline of about 30%, its service exports have continued to do well throughout the crisis. Indians have </span>\n",
       "<span style=\"color: #008000; text-decoration-color: #008000\">stayed home: overseas remittances have remained stable, and in 2008-2009 they reached $46.4 billion, largely coming</span>\n",
       "<span style=\"color: #008000; text-decoration-color: #008000\">from mostly Indian workers in the Gulf States.'</span>, <span style=\"color: #008000; text-decoration-color: #008000\">'Second, Bernanke is the best among his fellows. After all, he </span>\n",
       "<span style=\"color: #008000; text-decoration-color: #008000\">understands the nature and severity of the crisis, and then undertakes decisive steps that have helped to prevent </span>\n",
       "<span style=\"color: #008000; text-decoration-color: #008000\">the free-fall. This achievement, together with doubts about whether another one would have done better, makes it </span>\n",
       "<span style=\"color: #008000; text-decoration-color: #008000\">not advisable to replace him with another candidate from the establishment.'</span><span style=\"font-weight: bold\">]</span>\n",
       "</pre>\n"
      ],
      "text/plain": [
       "\u001b[33menglish_sentences_pred\u001b[0m=\u001b[1m[\u001b[0m\u001b[32m'And more serious cuts, such as those proposed by the EU – 20% below 1990’s levels within \u001b[0m\n",
       "\u001b[32m12 years – would reduce global temperatures by only a sixth-grade Celsius \u001b[0m\u001b[32m(\u001b[0m\u001b[32mroughly nine times Fahrenheit\u001b[0m\u001b[32m)\u001b[0m\u001b[32m, at a \u001b[0m\n",
       "\u001b[32mcost of $10 trillion. For every dollar spent, we would have achieved only four cents of value.'\u001b[0m, \u001b[32m'Some Iranian \u001b[0m\n",
       "\u001b[32mreformers and exilers have kindly defended Ahmadinejad’s election with the argument that his government is likely \u001b[0m\n",
       "\u001b[32mto show the regime’s true face and destroy all Western hopes for compromise. But it also can reflect the regime’s \u001b[0m\n",
       "\u001b[32msuccess in neutralizing the discontent over a quarter-century of radical Islamic rule. Regardless of the outcome, \u001b[0m\n",
       "\u001b[32mAhmadinejad’s victory means that everything to do with Iran is likely to be even more difficult.'\u001b[0m, \u001b[32m'The social \u001b[0m\n",
       "\u001b[32mstructure of society has become unstable. There are no social groups on which to build lasting organizations. \u001b[0m\n",
       "\u001b[32mPeople are in some ways socially hompathetic. This means that their interests vary according to situation. But it \u001b[0m\n",
       "\u001b[32malso means that parties no longer provide political homes, but that they respond to situations, diffuse emotions, \u001b[0m\n",
       "\u001b[32mand, above all, to appeals to their feelings, if not to their displeasure.'\u001b[0m, \u001b[32m'Although India’s goods exports have \u001b[0m\n",
       "\u001b[32msuffered a decline of about 30%, its service exports have continued to do well throughout the crisis. Indians have \u001b[0m\n",
       "\u001b[32mstayed home: overseas remittances have remained stable, and in 2008-2009 they reached $46.4 billion, largely coming\u001b[0m\n",
       "\u001b[32mfrom mostly Indian workers in the Gulf States.'\u001b[0m, \u001b[32m'Second, Bernanke is the best among his fellows. After all, he \u001b[0m\n",
       "\u001b[32munderstands the nature and severity of the crisis, and then undertakes decisive steps that have helped to prevent \u001b[0m\n",
       "\u001b[32mthe free-fall. This achievement, together with doubts about whether another one would have done better, makes it \u001b[0m\n",
       "\u001b[32mnot advisable to replace him with another candidate from the establishment.'\u001b[0m\u001b[1m]\u001b[0m\n"
      ]
     },
     "metadata": {},
     "output_type": "display_data"
    },
    {
     "data": {
      "text/html": [
       "<pre style=\"white-space:pre;overflow-x:auto;line-height:normal;font-family:Menlo,'DejaVu Sans Mono',consolas,'Courier New',monospace\">BLEU score: <span style=\"color: #008080; text-decoration-color: #008080; font-weight: bold\">34.68</span>\n",
       "</pre>\n"
      ],
      "text/plain": [
       "BLEU score: \u001b[1;36m34.68\u001b[0m\n"
      ]
     },
     "metadata": {},
     "output_type": "display_data"
    },
    {
     "data": {
      "text/html": [
       "<pre style=\"white-space:pre;overflow-x:auto;line-height:normal;font-family:Menlo,'DejaVu Sans Mono',consolas,'Courier New',monospace\"><span style=\"color: #808000; text-decoration-color: #808000\">epoch</span>=<span style=\"color: #008080; text-decoration-color: #008080; font-weight: bold\">1</span>\n",
       "</pre>\n"
      ],
      "text/plain": [
       "\u001b[33mepoch\u001b[0m=\u001b[1;36m1\u001b[0m\n"
      ]
     },
     "metadata": {},
     "output_type": "display_data"
    },
    {
     "data": {
      "text/html": [
       "<pre style=\"white-space:pre;overflow-x:auto;line-height:normal;font-family:Menlo,'DejaVu Sans Mono',consolas,'Courier New',monospace\"><span style=\"color: #808000; text-decoration-color: #808000\">bleu_score</span>=<span style=\"color: #008080; text-decoration-color: #008080; font-weight: bold\">34.68</span>\n",
       "</pre>\n"
      ],
      "text/plain": [
       "\u001b[33mbleu_score\u001b[0m=\u001b[1;36m34\u001b[0m\u001b[1;36m.68\u001b[0m\n"
      ]
     },
     "metadata": {},
     "output_type": "display_data"
    },
    {
     "data": {
      "text/html": [
       "<pre style=\"white-space:pre;overflow-x:auto;line-height:normal;font-family:Menlo,'DejaVu Sans Mono',consolas,'Courier New',monospace\"><span style=\"color: #808000; text-decoration-color: #808000\">avg_train_loss</span>=<span style=\"color: #008080; text-decoration-color: #008080; font-weight: bold\">0.3268188131855918</span>\n",
       "</pre>\n"
      ],
      "text/plain": [
       "\u001b[33mavg_train_loss\u001b[0m=\u001b[1;36m0\u001b[0m\u001b[1;36m.3268188131855918\u001b[0m\n"
      ]
     },
     "metadata": {},
     "output_type": "display_data"
    },
    {
     "data": {
      "text/html": [
       "<pre style=\"white-space:pre;overflow-x:auto;line-height:normal;font-family:Menlo,'DejaVu Sans Mono',consolas,'Courier New',monospace\"><span style=\"color: #808000; text-decoration-color: #808000\">avg_val_loss</span>=<span style=\"color: #008080; text-decoration-color: #008080; font-weight: bold\">0.553116524219513</span>\n",
       "</pre>\n"
      ],
      "text/plain": [
       "\u001b[33mavg_val_loss\u001b[0m=\u001b[1;36m0\u001b[0m\u001b[1;36m.553116524219513\u001b[0m\n"
      ]
     },
     "metadata": {},
     "output_type": "display_data"
    },
    {
     "name": "stderr",
     "output_type": "stream",
     "text": [
      "100%|██████████| 5/5 [00:08<00:00,  1.60s/it]\n"
     ]
    },
    {
     "data": {
      "text/html": [
       "<pre style=\"white-space:pre;overflow-x:auto;line-height:normal;font-family:Menlo,'DejaVu Sans Mono',consolas,'Courier New',monospace\"><span style=\"color: #808000; text-decoration-color: #808000\">actual_english_sentences</span>=<span style=\"font-weight: bold\">[</span><span style=\"color: #008000; text-decoration-color: #008000\">'And deeper emissions cuts like those proposed by the European Union – 20% below 1990 </span>\n",
       "<span style=\"color: #008000; text-decoration-color: #008000\">levels within 12 years – would reduce global temperatures by only one-sixtieth of one degree Celsius (one-thirtieth</span>\n",
       "<span style=\"color: #008000; text-decoration-color: #008000\">of one degree Fahrenheit) by 2100, at a cost of $10 trillion. For every dollar spent, we would do just four cents </span>\n",
       "<span style=\"color: #008000; text-decoration-color: #008000\">worth of good.'</span>, <span style=\"color: #008000; text-decoration-color: #008000\">'Some Iranian reformers and exiles put a bright face on Ahmadinejad’s election, arguing that his </span>\n",
       "<span style=\"color: #008000; text-decoration-color: #008000\">administration is more likely to show the regime’s real face and disabuse any Western hopes of compromise. Yet it </span>\n",
       "<span style=\"color: #008000; text-decoration-color: #008000\">may also represent the regime’s success at co-opting dissatisfaction with a quarter-century of radical Islamist </span>\n",
       "<span style=\"color: #008000; text-decoration-color: #008000\">rule. Whatever the outcome, for the West, Ahmadinejad’s victory means that everything related to Iran is set to </span>\n",
       "<span style=\"color: #008000; text-decoration-color: #008000\">become even hotter.'</span>, <span style=\"color: #008000; text-decoration-color: #008000\">'The very structure of society has come to be shaky. There are no social groups on which </span>\n",
       "<span style=\"color: #008000; text-decoration-color: #008000\">lasting organizations can be built. People are, in a sense, socially homeless. This means that their interests vary</span>\n",
       "<span style=\"color: #008000; text-decoration-color: #008000\">as situations change. It also means that they no longer find a political home in parties, but react to situations, </span>\n",
       "<span style=\"color: #008000; text-decoration-color: #008000\">to vague moods, and above all to appeals to sentiments, if not resentments.'</span>, <span style=\"color: #008000; text-decoration-color: #008000\">'Though India’s merchandise exports </span>\n",
       "<span style=\"color: #008000; text-decoration-color: #008000\">did register declines of about 30%, its exports of services continued to do well throughout the crisis. Indians </span>\n",
       "<span style=\"color: #008000; text-decoration-color: #008000\">abroad stayed loyal to India: remittances from overseas Indians remained robust, reaching $46.4 billion in </span>\n",
       "<span style=\"color: #008000; text-decoration-color: #008000\">2008-2009, the bulk of which came from the mainly blue-collar Indian expatriate community in the Gulf countries.'</span>, \n",
       "<span style=\"color: #008000; text-decoration-color: #008000\">'Second, Bernanke is the best among his peers. He did eventually come to understand the nature and severity of the </span>\n",
       "<span style=\"color: #008000; text-decoration-color: #008000\">crisis, and then took decisive steps that contributed to halting the economic freefall. That record, combined with </span>\n",
       "<span style=\"color: #008000; text-decoration-color: #008000\">doubts that any of his peers would have done better, means replacing him with another mainstream candidate makes </span>\n",
       "<span style=\"color: #008000; text-decoration-color: #008000\">little sense.'</span><span style=\"font-weight: bold\">]</span>\n",
       "</pre>\n"
      ],
      "text/plain": [
       "\u001b[33mactual_english_sentences\u001b[0m=\u001b[1m[\u001b[0m\u001b[32m'And deeper emissions cuts like those proposed by the European Union – 20% below 1990 \u001b[0m\n",
       "\u001b[32mlevels within 12 years – would reduce global temperatures by only one-sixtieth of one degree Celsius \u001b[0m\u001b[32m(\u001b[0m\u001b[32mone-thirtieth\u001b[0m\n",
       "\u001b[32mof one degree Fahrenheit\u001b[0m\u001b[32m)\u001b[0m\u001b[32m by 2100, at a cost of $10 trillion. For every dollar spent, we would do just four cents \u001b[0m\n",
       "\u001b[32mworth of good.'\u001b[0m, \u001b[32m'Some Iranian reformers and exiles put a bright face on Ahmadinejad’s election, arguing that his \u001b[0m\n",
       "\u001b[32madministration is more likely to show the regime’s real face and disabuse any Western hopes of compromise. Yet it \u001b[0m\n",
       "\u001b[32mmay also represent the regime’s success at co-opting dissatisfaction with a quarter-century of radical Islamist \u001b[0m\n",
       "\u001b[32mrule. Whatever the outcome, for the West, Ahmadinejad’s victory means that everything related to Iran is set to \u001b[0m\n",
       "\u001b[32mbecome even hotter.'\u001b[0m, \u001b[32m'The very structure of society has come to be shaky. There are no social groups on which \u001b[0m\n",
       "\u001b[32mlasting organizations can be built. People are, in a sense, socially homeless. This means that their interests vary\u001b[0m\n",
       "\u001b[32mas situations change. It also means that they no longer find a political home in parties, but react to situations, \u001b[0m\n",
       "\u001b[32mto vague moods, and above all to appeals to sentiments, if not resentments.'\u001b[0m, \u001b[32m'Though India’s merchandise exports \u001b[0m\n",
       "\u001b[32mdid register declines of about 30%, its exports of services continued to do well throughout the crisis. Indians \u001b[0m\n",
       "\u001b[32mabroad stayed loyal to India: remittances from overseas Indians remained robust, reaching $46.4 billion in \u001b[0m\n",
       "\u001b[32m2008-2009, the bulk of which came from the mainly blue-collar Indian expatriate community in the Gulf countries.'\u001b[0m, \n",
       "\u001b[32m'Second, Bernanke is the best among his peers. He did eventually come to understand the nature and severity of the \u001b[0m\n",
       "\u001b[32mcrisis, and then took decisive steps that contributed to halting the economic freefall. That record, combined with \u001b[0m\n",
       "\u001b[32mdoubts that any of his peers would have done better, means replacing him with another mainstream candidate makes \u001b[0m\n",
       "\u001b[32mlittle sense.'\u001b[0m\u001b[1m]\u001b[0m\n"
      ]
     },
     "metadata": {},
     "output_type": "display_data"
    },
    {
     "data": {
      "text/html": [
       "<pre style=\"white-space:pre;overflow-x:auto;line-height:normal;font-family:Menlo,'DejaVu Sans Mono',consolas,'Courier New',monospace\"><span style=\"color: #808000; text-decoration-color: #808000\">english_sentences_pred</span>=<span style=\"font-weight: bold\">[</span><span style=\"color: #008000; text-decoration-color: #008000\">''</span>, <span style=\"color: #008000; text-decoration-color: #008000\">'Some Iranian reformers and ex-detainees have kindly defended Ahmadinejad’s election </span>\n",
       "<span style=\"color: #008000; text-decoration-color: #008000\">with the argument that his government is likely to show the regime’s true face and destroy all Western hopes for </span>\n",
       "<span style=\"color: #008000; text-decoration-color: #008000\">compromise. But it also can reflect the regime’s success in neutralizing the discontent over a quarter-century of </span>\n",
       "<span style=\"color: #008000; text-decoration-color: #008000\">radical Islamic rule. Regardless of the outcome, Ahmadinejad’s victory means that everything that Iran has to do is</span>\n",
       "<span style=\"color: #008000; text-decoration-color: #008000\">certainly more difficult.'</span>, <span style=\"color: #008000; text-decoration-color: #008000\">'The social structure of society has become unstable. There are no social groups on </span>\n",
       "<span style=\"color: #008000; text-decoration-color: #008000\">which to build lasting organizations. People are in some ways socially hompathetic. This means that their interests</span>\n",
       "<span style=\"color: #008000; text-decoration-color: #008000\">vary according to situation. But it also means that parties no longer provide political homes, but that they </span>\n",
       "<span style=\"color: #008000; text-decoration-color: #008000\">respond to situations, diffuse emotions, and, most important, to appeals to their feelings, if not to their </span>\n",
       "<span style=\"color: #008000; text-decoration-color: #008000\">displeasures.'</span>, <span style=\"color: #008000; text-decoration-color: #008000\">'Although India’s goods exports have suffered a decline of about 30%, its service exports have </span>\n",
       "<span style=\"color: #008000; text-decoration-color: #008000\">continued to do well throughout the crisis. Indians have stayed home: overseas remittances have remained stable, </span>\n",
       "<span style=\"color: #008000; text-decoration-color: #008000\">and in 2008-2009 they reached $46.4 billion, largely coming from mostly Indian workers working in manufacturing </span>\n",
       "<span style=\"color: #008000; text-decoration-color: #008000\">factories.'</span>, <span style=\"color: #008000; text-decoration-color: #008000\">'Second, Bernanke is the best among his fellows. After all, he has understood the nature and severity </span>\n",
       "<span style=\"color: #008000; text-decoration-color: #008000\">of the crisis, and then took  decisive steps that have helped to prevent the free-fall. This achievement, together </span>\n",
       "<span style=\"color: #008000; text-decoration-color: #008000\">with doubts about whether another one would have done better, makes it not advisable to replace him with another </span>\n",
       "<span style=\"color: #008000; text-decoration-color: #008000\">candidate from the establishment.'</span><span style=\"font-weight: bold\">]</span>\n",
       "</pre>\n"
      ],
      "text/plain": [
       "\u001b[33menglish_sentences_pred\u001b[0m=\u001b[1m[\u001b[0m\u001b[32m''\u001b[0m, \u001b[32m'Some Iranian reformers and ex-detainees have kindly defended Ahmadinejad’s election \u001b[0m\n",
       "\u001b[32mwith the argument that his government is likely to show the regime’s true face and destroy all Western hopes for \u001b[0m\n",
       "\u001b[32mcompromise. But it also can reflect the regime’s success in neutralizing the discontent over a quarter-century of \u001b[0m\n",
       "\u001b[32mradical Islamic rule. Regardless of the outcome, Ahmadinejad’s victory means that everything that Iran has to do is\u001b[0m\n",
       "\u001b[32mcertainly more difficult.'\u001b[0m, \u001b[32m'The social structure of society has become unstable. There are no social groups on \u001b[0m\n",
       "\u001b[32mwhich to build lasting organizations. People are in some ways socially hompathetic. This means that their interests\u001b[0m\n",
       "\u001b[32mvary according to situation. But it also means that parties no longer provide political homes, but that they \u001b[0m\n",
       "\u001b[32mrespond to situations, diffuse emotions, and, most important, to appeals to their feelings, if not to their \u001b[0m\n",
       "\u001b[32mdispleasures.'\u001b[0m, \u001b[32m'Although India’s goods exports have suffered a decline of about 30%, its service exports have \u001b[0m\n",
       "\u001b[32mcontinued to do well throughout the crisis. Indians have stayed home: overseas remittances have remained stable, \u001b[0m\n",
       "\u001b[32mand in 2008-2009 they reached $46.4 billion, largely coming from mostly Indian workers working in manufacturing \u001b[0m\n",
       "\u001b[32mfactories.'\u001b[0m, \u001b[32m'Second, Bernanke is the best among his fellows. After all, he has understood the nature and severity \u001b[0m\n",
       "\u001b[32mof the crisis, and then took  decisive steps that have helped to prevent the free-fall. This achievement, together \u001b[0m\n",
       "\u001b[32mwith doubts about whether another one would have done better, makes it not advisable to replace him with another \u001b[0m\n",
       "\u001b[32mcandidate from the establishment.'\u001b[0m\u001b[1m]\u001b[0m\n"
      ]
     },
     "metadata": {},
     "output_type": "display_data"
    },
    {
     "data": {
      "text/html": [
       "<pre style=\"white-space:pre;overflow-x:auto;line-height:normal;font-family:Menlo,'DejaVu Sans Mono',consolas,'Courier New',monospace\">BLEU score: <span style=\"color: #008080; text-decoration-color: #008080; font-weight: bold\">24.89</span>\n",
       "</pre>\n"
      ],
      "text/plain": [
       "BLEU score: \u001b[1;36m24.89\u001b[0m\n"
      ]
     },
     "metadata": {},
     "output_type": "display_data"
    },
    {
     "data": {
      "text/html": [
       "<pre style=\"white-space:pre;overflow-x:auto;line-height:normal;font-family:Menlo,'DejaVu Sans Mono',consolas,'Courier New',monospace\"><span style=\"color: #808000; text-decoration-color: #808000\">epoch</span>=<span style=\"color: #008080; text-decoration-color: #008080; font-weight: bold\">2</span>\n",
       "</pre>\n"
      ],
      "text/plain": [
       "\u001b[33mepoch\u001b[0m=\u001b[1;36m2\u001b[0m\n"
      ]
     },
     "metadata": {},
     "output_type": "display_data"
    },
    {
     "data": {
      "text/html": [
       "<pre style=\"white-space:pre;overflow-x:auto;line-height:normal;font-family:Menlo,'DejaVu Sans Mono',consolas,'Courier New',monospace\"><span style=\"color: #808000; text-decoration-color: #808000\">bleu_score</span>=<span style=\"color: #008080; text-decoration-color: #008080; font-weight: bold\">24.89</span>\n",
       "</pre>\n"
      ],
      "text/plain": [
       "\u001b[33mbleu_score\u001b[0m=\u001b[1;36m24\u001b[0m\u001b[1;36m.89\u001b[0m\n"
      ]
     },
     "metadata": {},
     "output_type": "display_data"
    },
    {
     "data": {
      "text/html": [
       "<pre style=\"white-space:pre;overflow-x:auto;line-height:normal;font-family:Menlo,'DejaVu Sans Mono',consolas,'Courier New',monospace\"><span style=\"color: #808000; text-decoration-color: #808000\">avg_train_loss</span>=<span style=\"color: #008080; text-decoration-color: #008080; font-weight: bold\">0.31519154193518045</span>\n",
       "</pre>\n"
      ],
      "text/plain": [
       "\u001b[33mavg_train_loss\u001b[0m=\u001b[1;36m0\u001b[0m\u001b[1;36m.31519154193518045\u001b[0m\n"
      ]
     },
     "metadata": {},
     "output_type": "display_data"
    },
    {
     "data": {
      "text/html": [
       "<pre style=\"white-space:pre;overflow-x:auto;line-height:normal;font-family:Menlo,'DejaVu Sans Mono',consolas,'Courier New',monospace\"><span style=\"color: #808000; text-decoration-color: #808000\">avg_val_loss</span>=<span style=\"color: #008080; text-decoration-color: #008080; font-weight: bold\">0.5388939539591472</span>\n",
       "</pre>\n"
      ],
      "text/plain": [
       "\u001b[33mavg_val_loss\u001b[0m=\u001b[1;36m0\u001b[0m\u001b[1;36m.5388939539591472\u001b[0m\n"
      ]
     },
     "metadata": {},
     "output_type": "display_data"
    },
    {
     "name": "stderr",
     "output_type": "stream",
     "text": [
      "100%|██████████| 5/5 [00:05<00:00,  1.12s/it]\n"
     ]
    },
    {
     "data": {
      "text/html": [
       "<pre style=\"white-space:pre;overflow-x:auto;line-height:normal;font-family:Menlo,'DejaVu Sans Mono',consolas,'Courier New',monospace\"><span style=\"color: #808000; text-decoration-color: #808000\">actual_english_sentences</span>=<span style=\"font-weight: bold\">[</span><span style=\"color: #008000; text-decoration-color: #008000\">'And deeper emissions cuts like those proposed by the European Union – 20% below 1990 </span>\n",
       "<span style=\"color: #008000; text-decoration-color: #008000\">levels within 12 years – would reduce global temperatures by only one-sixtieth of one degree Celsius (one-thirtieth</span>\n",
       "<span style=\"color: #008000; text-decoration-color: #008000\">of one degree Fahrenheit) by 2100, at a cost of $10 trillion. For every dollar spent, we would do just four cents </span>\n",
       "<span style=\"color: #008000; text-decoration-color: #008000\">worth of good.'</span>, <span style=\"color: #008000; text-decoration-color: #008000\">'Some Iranian reformers and exiles put a bright face on Ahmadinejad’s election, arguing that his </span>\n",
       "<span style=\"color: #008000; text-decoration-color: #008000\">administration is more likely to show the regime’s real face and disabuse any Western hopes of compromise. Yet it </span>\n",
       "<span style=\"color: #008000; text-decoration-color: #008000\">may also represent the regime’s success at co-opting dissatisfaction with a quarter-century of radical Islamist </span>\n",
       "<span style=\"color: #008000; text-decoration-color: #008000\">rule. Whatever the outcome, for the West, Ahmadinejad’s victory means that everything related to Iran is set to </span>\n",
       "<span style=\"color: #008000; text-decoration-color: #008000\">become even hotter.'</span>, <span style=\"color: #008000; text-decoration-color: #008000\">'The very structure of society has come to be shaky. There are no social groups on which </span>\n",
       "<span style=\"color: #008000; text-decoration-color: #008000\">lasting organizations can be built. People are, in a sense, socially homeless. This means that their interests vary</span>\n",
       "<span style=\"color: #008000; text-decoration-color: #008000\">as situations change. It also means that they no longer find a political home in parties, but react to situations, </span>\n",
       "<span style=\"color: #008000; text-decoration-color: #008000\">to vague moods, and above all to appeals to sentiments, if not resentments.'</span>, <span style=\"color: #008000; text-decoration-color: #008000\">'Though India’s merchandise exports </span>\n",
       "<span style=\"color: #008000; text-decoration-color: #008000\">did register declines of about 30%, its exports of services continued to do well throughout the crisis. Indians </span>\n",
       "<span style=\"color: #008000; text-decoration-color: #008000\">abroad stayed loyal to India: remittances from overseas Indians remained robust, reaching $46.4 billion in </span>\n",
       "<span style=\"color: #008000; text-decoration-color: #008000\">2008-2009, the bulk of which came from the mainly blue-collar Indian expatriate community in the Gulf countries.'</span>, \n",
       "<span style=\"color: #008000; text-decoration-color: #008000\">'Second, Bernanke is the best among his peers. He did eventually come to understand the nature and severity of the </span>\n",
       "<span style=\"color: #008000; text-decoration-color: #008000\">crisis, and then took decisive steps that contributed to halting the economic freefall. That record, combined with </span>\n",
       "<span style=\"color: #008000; text-decoration-color: #008000\">doubts that any of his peers would have done better, means replacing him with another mainstream candidate makes </span>\n",
       "<span style=\"color: #008000; text-decoration-color: #008000\">little sense.'</span><span style=\"font-weight: bold\">]</span>\n",
       "</pre>\n"
      ],
      "text/plain": [
       "\u001b[33mactual_english_sentences\u001b[0m=\u001b[1m[\u001b[0m\u001b[32m'And deeper emissions cuts like those proposed by the European Union – 20% below 1990 \u001b[0m\n",
       "\u001b[32mlevels within 12 years – would reduce global temperatures by only one-sixtieth of one degree Celsius \u001b[0m\u001b[32m(\u001b[0m\u001b[32mone-thirtieth\u001b[0m\n",
       "\u001b[32mof one degree Fahrenheit\u001b[0m\u001b[32m)\u001b[0m\u001b[32m by 2100, at a cost of $10 trillion. For every dollar spent, we would do just four cents \u001b[0m\n",
       "\u001b[32mworth of good.'\u001b[0m, \u001b[32m'Some Iranian reformers and exiles put a bright face on Ahmadinejad’s election, arguing that his \u001b[0m\n",
       "\u001b[32madministration is more likely to show the regime’s real face and disabuse any Western hopes of compromise. Yet it \u001b[0m\n",
       "\u001b[32mmay also represent the regime’s success at co-opting dissatisfaction with a quarter-century of radical Islamist \u001b[0m\n",
       "\u001b[32mrule. Whatever the outcome, for the West, Ahmadinejad’s victory means that everything related to Iran is set to \u001b[0m\n",
       "\u001b[32mbecome even hotter.'\u001b[0m, \u001b[32m'The very structure of society has come to be shaky. There are no social groups on which \u001b[0m\n",
       "\u001b[32mlasting organizations can be built. People are, in a sense, socially homeless. This means that their interests vary\u001b[0m\n",
       "\u001b[32mas situations change. It also means that they no longer find a political home in parties, but react to situations, \u001b[0m\n",
       "\u001b[32mto vague moods, and above all to appeals to sentiments, if not resentments.'\u001b[0m, \u001b[32m'Though India’s merchandise exports \u001b[0m\n",
       "\u001b[32mdid register declines of about 30%, its exports of services continued to do well throughout the crisis. Indians \u001b[0m\n",
       "\u001b[32mabroad stayed loyal to India: remittances from overseas Indians remained robust, reaching $46.4 billion in \u001b[0m\n",
       "\u001b[32m2008-2009, the bulk of which came from the mainly blue-collar Indian expatriate community in the Gulf countries.'\u001b[0m, \n",
       "\u001b[32m'Second, Bernanke is the best among his peers. He did eventually come to understand the nature and severity of the \u001b[0m\n",
       "\u001b[32mcrisis, and then took decisive steps that contributed to halting the economic freefall. That record, combined with \u001b[0m\n",
       "\u001b[32mdoubts that any of his peers would have done better, means replacing him with another mainstream candidate makes \u001b[0m\n",
       "\u001b[32mlittle sense.'\u001b[0m\u001b[1m]\u001b[0m\n"
      ]
     },
     "metadata": {},
     "output_type": "display_data"
    },
    {
     "data": {
      "text/html": [
       "<pre style=\"white-space:pre;overflow-x:auto;line-height:normal;font-family:Menlo,'DejaVu Sans Mono',consolas,'Courier New',monospace\"><span style=\"color: #808000; text-decoration-color: #808000\">english_sentences_pred</span>=<span style=\"font-weight: bold\">[</span><span style=\"color: #008000; text-decoration-color: #008000\">'And more serious cuts, such as those proposed by the EU – 20% below 1990’s levels within </span>\n",
       "<span style=\"color: #008000; text-decoration-color: #008000\">12 years – would reduce global temperatures by only six degrees Celsius (roughly six times Fahrenheit), at a cost </span>\n",
       "<span style=\"color: #008000; text-decoration-color: #008000\">of $10 trillion. For every dollar spent, we would have achieved only four cents of value.'</span>, <span style=\"color: #008000; text-decoration-color: #008000\">'Some Iranian reformers</span>\n",
       "<span style=\"color: #008000; text-decoration-color: #008000\">and ex-ilers have kindly defended Ahmadinejad’s election with the argument that his government is likely to show </span>\n",
       "<span style=\"color: #008000; text-decoration-color: #008000\">the regime’s true face and destroy all Western hopes for compromise. But it also can reflect the regime’s success </span>\n",
       "<span style=\"color: #008000; text-decoration-color: #008000\">in neutralizing the discontent over a quarter-century of radical Islamic rule. Regardless of the outcome, </span>\n",
       "<span style=\"color: #008000; text-decoration-color: #008000\">Ahmadinejad’s victory means that everything that Iran has to do is certainly more difficult.'</span>, <span style=\"color: #008000; text-decoration-color: #008000\">'The social </span>\n",
       "<span style=\"color: #008000; text-decoration-color: #008000\">structure of society has become unstable. There are no social groups on which to build lasting organizations. </span>\n",
       "<span style=\"color: #008000; text-decoration-color: #008000\">People are socially unsocialized, which means that their interests vary according to situation. But it also means </span>\n",
       "<span style=\"color: #008000; text-decoration-color: #008000\">that parties no longer provide political homes, but that they respond to situations, diffuse emotions, and, more </span>\n",
       "<span style=\"color: #008000; text-decoration-color: #008000\">importantly, to appeal to their feelings, if not to their displeasure.'</span>, <span style=\"color: #008000; text-decoration-color: #008000\">'Although India’s goods exports have </span>\n",
       "<span style=\"color: #008000; text-decoration-color: #008000\">suffered a decline of about 30%, its service exports have continued to grow well throughout the crisis. Indians </span>\n",
       "<span style=\"color: #008000; text-decoration-color: #008000\">have stayed home: foreign loans have remained stable, and in 2008-2009 they reached US$46.4 billion, largely of it </span>\n",
       "<span style=\"color: #008000; text-decoration-color: #008000\">coming from mostly Indian workers in the Gulf States.'</span>, <span style=\"color: #008000; text-decoration-color: #008000\">'Second, Bernanke is the best among his fellows. After all,</span>\n",
       "<span style=\"color: #008000; text-decoration-color: #008000\">he has understood the nature and severity of the crisis, and then took  decisive steps that have helped to prevent </span>\n",
       "<span style=\"color: #008000; text-decoration-color: #008000\">the free-fall. This achievement, together with doubts about whether another one would have done better, makes it </span>\n",
       "<span style=\"color: #008000; text-decoration-color: #008000\">not advisable to replace him with another candidate from the establishment.'</span><span style=\"font-weight: bold\">]</span>\n",
       "</pre>\n"
      ],
      "text/plain": [
       "\u001b[33menglish_sentences_pred\u001b[0m=\u001b[1m[\u001b[0m\u001b[32m'And more serious cuts, such as those proposed by the EU – 20% below 1990’s levels within \u001b[0m\n",
       "\u001b[32m12 years – would reduce global temperatures by only six degrees Celsius \u001b[0m\u001b[32m(\u001b[0m\u001b[32mroughly six times Fahrenheit\u001b[0m\u001b[32m)\u001b[0m\u001b[32m, at a cost \u001b[0m\n",
       "\u001b[32mof $10 trillion. For every dollar spent, we would have achieved only four cents of value.'\u001b[0m, \u001b[32m'Some Iranian reformers\u001b[0m\n",
       "\u001b[32mand ex-ilers have kindly defended Ahmadinejad’s election with the argument that his government is likely to show \u001b[0m\n",
       "\u001b[32mthe regime’s true face and destroy all Western hopes for compromise. But it also can reflect the regime’s success \u001b[0m\n",
       "\u001b[32min neutralizing the discontent over a quarter-century of radical Islamic rule. Regardless of the outcome, \u001b[0m\n",
       "\u001b[32mAhmadinejad’s victory means that everything that Iran has to do is certainly more difficult.'\u001b[0m, \u001b[32m'The social \u001b[0m\n",
       "\u001b[32mstructure of society has become unstable. There are no social groups on which to build lasting organizations. \u001b[0m\n",
       "\u001b[32mPeople are socially unsocialized, which means that their interests vary according to situation. But it also means \u001b[0m\n",
       "\u001b[32mthat parties no longer provide political homes, but that they respond to situations, diffuse emotions, and, more \u001b[0m\n",
       "\u001b[32mimportantly, to appeal to their feelings, if not to their displeasure.'\u001b[0m, \u001b[32m'Although India’s goods exports have \u001b[0m\n",
       "\u001b[32msuffered a decline of about 30%, its service exports have continued to grow well throughout the crisis. Indians \u001b[0m\n",
       "\u001b[32mhave stayed home: foreign loans have remained stable, and in 2008-2009 they reached US$46.4 billion, largely of it \u001b[0m\n",
       "\u001b[32mcoming from mostly Indian workers in the Gulf States.'\u001b[0m, \u001b[32m'Second, Bernanke is the best among his fellows. After all,\u001b[0m\n",
       "\u001b[32mhe has understood the nature and severity of the crisis, and then took  decisive steps that have helped to prevent \u001b[0m\n",
       "\u001b[32mthe free-fall. This achievement, together with doubts about whether another one would have done better, makes it \u001b[0m\n",
       "\u001b[32mnot advisable to replace him with another candidate from the establishment.'\u001b[0m\u001b[1m]\u001b[0m\n"
      ]
     },
     "metadata": {},
     "output_type": "display_data"
    },
    {
     "data": {
      "text/html": [
       "<pre style=\"white-space:pre;overflow-x:auto;line-height:normal;font-family:Menlo,'DejaVu Sans Mono',consolas,'Courier New',monospace\">BLEU score: <span style=\"color: #008080; text-decoration-color: #008080; font-weight: bold\">33.55</span>\n",
       "</pre>\n"
      ],
      "text/plain": [
       "BLEU score: \u001b[1;36m33.55\u001b[0m\n"
      ]
     },
     "metadata": {},
     "output_type": "display_data"
    },
    {
     "data": {
      "text/html": [
       "<pre style=\"white-space:pre;overflow-x:auto;line-height:normal;font-family:Menlo,'DejaVu Sans Mono',consolas,'Courier New',monospace\"><span style=\"color: #808000; text-decoration-color: #808000\">epoch</span>=<span style=\"color: #008080; text-decoration-color: #008080; font-weight: bold\">3</span>\n",
       "</pre>\n"
      ],
      "text/plain": [
       "\u001b[33mepoch\u001b[0m=\u001b[1;36m3\u001b[0m\n"
      ]
     },
     "metadata": {},
     "output_type": "display_data"
    },
    {
     "data": {
      "text/html": [
       "<pre style=\"white-space:pre;overflow-x:auto;line-height:normal;font-family:Menlo,'DejaVu Sans Mono',consolas,'Courier New',monospace\"><span style=\"color: #808000; text-decoration-color: #808000\">bleu_score</span>=<span style=\"color: #008080; text-decoration-color: #008080; font-weight: bold\">33.55</span>\n",
       "</pre>\n"
      ],
      "text/plain": [
       "\u001b[33mbleu_score\u001b[0m=\u001b[1;36m33\u001b[0m\u001b[1;36m.55\u001b[0m\n"
      ]
     },
     "metadata": {},
     "output_type": "display_data"
    },
    {
     "data": {
      "text/html": [
       "<pre style=\"white-space:pre;overflow-x:auto;line-height:normal;font-family:Menlo,'DejaVu Sans Mono',consolas,'Courier New',monospace\"><span style=\"color: #808000; text-decoration-color: #808000\">avg_train_loss</span>=<span style=\"color: #008080; text-decoration-color: #008080; font-weight: bold\">0.30355799021003965</span>\n",
       "</pre>\n"
      ],
      "text/plain": [
       "\u001b[33mavg_train_loss\u001b[0m=\u001b[1;36m0\u001b[0m\u001b[1;36m.30355799021003965\u001b[0m\n"
      ]
     },
     "metadata": {},
     "output_type": "display_data"
    },
    {
     "data": {
      "text/html": [
       "<pre style=\"white-space:pre;overflow-x:auto;line-height:normal;font-family:Menlo,'DejaVu Sans Mono',consolas,'Courier New',monospace\"><span style=\"color: #808000; text-decoration-color: #808000\">avg_val_loss</span>=<span style=\"color: #008080; text-decoration-color: #008080; font-weight: bold\">0.5239634950955708</span>\n",
       "</pre>\n"
      ],
      "text/plain": [
       "\u001b[33mavg_val_loss\u001b[0m=\u001b[1;36m0\u001b[0m\u001b[1;36m.5239634950955708\u001b[0m\n"
      ]
     },
     "metadata": {},
     "output_type": "display_data"
    },
    {
     "name": "stderr",
     "output_type": "stream",
     "text": [
      "100%|██████████| 5/5 [00:05<00:00,  1.13s/it]\n"
     ]
    },
    {
     "data": {
      "text/html": [
       "<pre style=\"white-space:pre;overflow-x:auto;line-height:normal;font-family:Menlo,'DejaVu Sans Mono',consolas,'Courier New',monospace\"><span style=\"color: #808000; text-decoration-color: #808000\">actual_english_sentences</span>=<span style=\"font-weight: bold\">[</span><span style=\"color: #008000; text-decoration-color: #008000\">'And deeper emissions cuts like those proposed by the European Union – 20% below 1990 </span>\n",
       "<span style=\"color: #008000; text-decoration-color: #008000\">levels within 12 years – would reduce global temperatures by only one-sixtieth of one degree Celsius (one-thirtieth</span>\n",
       "<span style=\"color: #008000; text-decoration-color: #008000\">of one degree Fahrenheit) by 2100, at a cost of $10 trillion. For every dollar spent, we would do just four cents </span>\n",
       "<span style=\"color: #008000; text-decoration-color: #008000\">worth of good.'</span>, <span style=\"color: #008000; text-decoration-color: #008000\">'Some Iranian reformers and exiles put a bright face on Ahmadinejad’s election, arguing that his </span>\n",
       "<span style=\"color: #008000; text-decoration-color: #008000\">administration is more likely to show the regime’s real face and disabuse any Western hopes of compromise. Yet it </span>\n",
       "<span style=\"color: #008000; text-decoration-color: #008000\">may also represent the regime’s success at co-opting dissatisfaction with a quarter-century of radical Islamist </span>\n",
       "<span style=\"color: #008000; text-decoration-color: #008000\">rule. Whatever the outcome, for the West, Ahmadinejad’s victory means that everything related to Iran is set to </span>\n",
       "<span style=\"color: #008000; text-decoration-color: #008000\">become even hotter.'</span>, <span style=\"color: #008000; text-decoration-color: #008000\">'The very structure of society has come to be shaky. There are no social groups on which </span>\n",
       "<span style=\"color: #008000; text-decoration-color: #008000\">lasting organizations can be built. People are, in a sense, socially homeless. This means that their interests vary</span>\n",
       "<span style=\"color: #008000; text-decoration-color: #008000\">as situations change. It also means that they no longer find a political home in parties, but react to situations, </span>\n",
       "<span style=\"color: #008000; text-decoration-color: #008000\">to vague moods, and above all to appeals to sentiments, if not resentments.'</span>, <span style=\"color: #008000; text-decoration-color: #008000\">'Though India’s merchandise exports </span>\n",
       "<span style=\"color: #008000; text-decoration-color: #008000\">did register declines of about 30%, its exports of services continued to do well throughout the crisis. Indians </span>\n",
       "<span style=\"color: #008000; text-decoration-color: #008000\">abroad stayed loyal to India: remittances from overseas Indians remained robust, reaching $46.4 billion in </span>\n",
       "<span style=\"color: #008000; text-decoration-color: #008000\">2008-2009, the bulk of which came from the mainly blue-collar Indian expatriate community in the Gulf countries.'</span>, \n",
       "<span style=\"color: #008000; text-decoration-color: #008000\">'Second, Bernanke is the best among his peers. He did eventually come to understand the nature and severity of the </span>\n",
       "<span style=\"color: #008000; text-decoration-color: #008000\">crisis, and then took decisive steps that contributed to halting the economic freefall. That record, combined with </span>\n",
       "<span style=\"color: #008000; text-decoration-color: #008000\">doubts that any of his peers would have done better, means replacing him with another mainstream candidate makes </span>\n",
       "<span style=\"color: #008000; text-decoration-color: #008000\">little sense.'</span><span style=\"font-weight: bold\">]</span>\n",
       "</pre>\n"
      ],
      "text/plain": [
       "\u001b[33mactual_english_sentences\u001b[0m=\u001b[1m[\u001b[0m\u001b[32m'And deeper emissions cuts like those proposed by the European Union – 20% below 1990 \u001b[0m\n",
       "\u001b[32mlevels within 12 years – would reduce global temperatures by only one-sixtieth of one degree Celsius \u001b[0m\u001b[32m(\u001b[0m\u001b[32mone-thirtieth\u001b[0m\n",
       "\u001b[32mof one degree Fahrenheit\u001b[0m\u001b[32m)\u001b[0m\u001b[32m by 2100, at a cost of $10 trillion. For every dollar spent, we would do just four cents \u001b[0m\n",
       "\u001b[32mworth of good.'\u001b[0m, \u001b[32m'Some Iranian reformers and exiles put a bright face on Ahmadinejad’s election, arguing that his \u001b[0m\n",
       "\u001b[32madministration is more likely to show the regime’s real face and disabuse any Western hopes of compromise. Yet it \u001b[0m\n",
       "\u001b[32mmay also represent the regime’s success at co-opting dissatisfaction with a quarter-century of radical Islamist \u001b[0m\n",
       "\u001b[32mrule. Whatever the outcome, for the West, Ahmadinejad’s victory means that everything related to Iran is set to \u001b[0m\n",
       "\u001b[32mbecome even hotter.'\u001b[0m, \u001b[32m'The very structure of society has come to be shaky. There are no social groups on which \u001b[0m\n",
       "\u001b[32mlasting organizations can be built. People are, in a sense, socially homeless. This means that their interests vary\u001b[0m\n",
       "\u001b[32mas situations change. It also means that they no longer find a political home in parties, but react to situations, \u001b[0m\n",
       "\u001b[32mto vague moods, and above all to appeals to sentiments, if not resentments.'\u001b[0m, \u001b[32m'Though India’s merchandise exports \u001b[0m\n",
       "\u001b[32mdid register declines of about 30%, its exports of services continued to do well throughout the crisis. Indians \u001b[0m\n",
       "\u001b[32mabroad stayed loyal to India: remittances from overseas Indians remained robust, reaching $46.4 billion in \u001b[0m\n",
       "\u001b[32m2008-2009, the bulk of which came from the mainly blue-collar Indian expatriate community in the Gulf countries.'\u001b[0m, \n",
       "\u001b[32m'Second, Bernanke is the best among his peers. He did eventually come to understand the nature and severity of the \u001b[0m\n",
       "\u001b[32mcrisis, and then took decisive steps that contributed to halting the economic freefall. That record, combined with \u001b[0m\n",
       "\u001b[32mdoubts that any of his peers would have done better, means replacing him with another mainstream candidate makes \u001b[0m\n",
       "\u001b[32mlittle sense.'\u001b[0m\u001b[1m]\u001b[0m\n"
      ]
     },
     "metadata": {},
     "output_type": "display_data"
    },
    {
     "data": {
      "text/html": [
       "<pre style=\"white-space:pre;overflow-x:auto;line-height:normal;font-family:Menlo,'DejaVu Sans Mono',consolas,'Courier New',monospace\"><span style=\"color: #808000; text-decoration-color: #808000\">english_sentences_pred</span>=<span style=\"font-weight: bold\">[</span><span style=\"color: #008000; text-decoration-color: #008000\">'And more serious cuts, such as those proposed by the EU – 20% below 1990’s levels within </span>\n",
       "<span style=\"color: #008000; text-decoration-color: #008000\">12 years – would reduce global temperatures by only six degrees Celsius (roughly six times Fahrenheit), at a cost </span>\n",
       "<span style=\"color: #008000; text-decoration-color: #008000\">of $10 trillion. For every dollar spent, we would have achieved only four cents of value.'</span>, <span style=\"color: #008000; text-decoration-color: #008000\">'Some Iranian reformers</span>\n",
       "<span style=\"color: #008000; text-decoration-color: #008000\">and ex-ilers have kindly defended Ahmadinejad’s election with the argument that his government is likely to show </span>\n",
       "<span style=\"color: #008000; text-decoration-color: #008000\">the regime’s true face and destroy all Western hopes for compromise. But it also can reflect the regime’s success </span>\n",
       "<span style=\"color: #008000; text-decoration-color: #008000\">in neutralizing the discontent over a quarter-century of radical Islamic rule. Regardless of the outcome, </span>\n",
       "<span style=\"color: #008000; text-decoration-color: #008000\">Ahmadinejad’s victory means that everything that Iran has to do is certainly more difficult.'</span>, <span style=\"color: #008000; text-decoration-color: #008000\">'The social </span>\n",
       "<span style=\"color: #008000; text-decoration-color: #008000\">structure of society has become unstable. There are no social groups on which to build lasting organizations. </span>\n",
       "<span style=\"color: #008000; text-decoration-color: #008000\">People are socially unsocialized, which means that their interests vary according to situation. But it also means </span>\n",
       "<span style=\"color: #008000; text-decoration-color: #008000\">that parties no longer provide political homes, but that they respond to situations, diffuse emotions, and, more </span>\n",
       "<span style=\"color: #008000; text-decoration-color: #008000\">importantly, to appeal to their feelings, if not to their displeasure.'</span>, <span style=\"color: #008000; text-decoration-color: #008000\">'Although India’s goods exports have </span>\n",
       "<span style=\"color: #008000; text-decoration-color: #008000\">suffered a decline of about 30%, its service exports have continued to grow well throughout the crisis. Indians </span>\n",
       "<span style=\"color: #008000; text-decoration-color: #008000\">have stayed home: overseas remittances have remained stable, and in 2008-2009 they reached US$46.4 billion, largely</span>\n",
       "<span style=\"color: #008000; text-decoration-color: #008000\">of it coming from mostly Indian workers in the Gulf States.'</span>, <span style=\"color: #008000; text-decoration-color: #008000\">'Second, Bernanke is the best among his fellows. He </span>\n",
       "<span style=\"color: #008000; text-decoration-color: #008000\">has finally understood the nature and severity of the crisis, and then took  decisive steps that have helped to </span>\n",
       "<span style=\"color: #008000; text-decoration-color: #008000\">prevent the free-fall. This achievement, together with doubts about whether another one would have done better, </span>\n",
       "<span style=\"color: #008000; text-decoration-color: #008000\">makes it not advisable to replace him with another candidate from the establishment.'</span><span style=\"font-weight: bold\">]</span>\n",
       "</pre>\n"
      ],
      "text/plain": [
       "\u001b[33menglish_sentences_pred\u001b[0m=\u001b[1m[\u001b[0m\u001b[32m'And more serious cuts, such as those proposed by the EU – 20% below 1990’s levels within \u001b[0m\n",
       "\u001b[32m12 years – would reduce global temperatures by only six degrees Celsius \u001b[0m\u001b[32m(\u001b[0m\u001b[32mroughly six times Fahrenheit\u001b[0m\u001b[32m)\u001b[0m\u001b[32m, at a cost \u001b[0m\n",
       "\u001b[32mof $10 trillion. For every dollar spent, we would have achieved only four cents of value.'\u001b[0m, \u001b[32m'Some Iranian reformers\u001b[0m\n",
       "\u001b[32mand ex-ilers have kindly defended Ahmadinejad’s election with the argument that his government is likely to show \u001b[0m\n",
       "\u001b[32mthe regime’s true face and destroy all Western hopes for compromise. But it also can reflect the regime’s success \u001b[0m\n",
       "\u001b[32min neutralizing the discontent over a quarter-century of radical Islamic rule. Regardless of the outcome, \u001b[0m\n",
       "\u001b[32mAhmadinejad’s victory means that everything that Iran has to do is certainly more difficult.'\u001b[0m, \u001b[32m'The social \u001b[0m\n",
       "\u001b[32mstructure of society has become unstable. There are no social groups on which to build lasting organizations. \u001b[0m\n",
       "\u001b[32mPeople are socially unsocialized, which means that their interests vary according to situation. But it also means \u001b[0m\n",
       "\u001b[32mthat parties no longer provide political homes, but that they respond to situations, diffuse emotions, and, more \u001b[0m\n",
       "\u001b[32mimportantly, to appeal to their feelings, if not to their displeasure.'\u001b[0m, \u001b[32m'Although India’s goods exports have \u001b[0m\n",
       "\u001b[32msuffered a decline of about 30%, its service exports have continued to grow well throughout the crisis. Indians \u001b[0m\n",
       "\u001b[32mhave stayed home: overseas remittances have remained stable, and in 2008-2009 they reached US$46.4 billion, largely\u001b[0m\n",
       "\u001b[32mof it coming from mostly Indian workers in the Gulf States.'\u001b[0m, \u001b[32m'Second, Bernanke is the best among his fellows. He \u001b[0m\n",
       "\u001b[32mhas finally understood the nature and severity of the crisis, and then took  decisive steps that have helped to \u001b[0m\n",
       "\u001b[32mprevent the free-fall. This achievement, together with doubts about whether another one would have done better, \u001b[0m\n",
       "\u001b[32mmakes it not advisable to replace him with another candidate from the establishment.'\u001b[0m\u001b[1m]\u001b[0m\n"
      ]
     },
     "metadata": {},
     "output_type": "display_data"
    },
    {
     "data": {
      "text/html": [
       "<pre style=\"white-space:pre;overflow-x:auto;line-height:normal;font-family:Menlo,'DejaVu Sans Mono',consolas,'Courier New',monospace\">BLEU score: <span style=\"color: #008080; text-decoration-color: #008080; font-weight: bold\">33.68</span>\n",
       "</pre>\n"
      ],
      "text/plain": [
       "BLEU score: \u001b[1;36m33.68\u001b[0m\n"
      ]
     },
     "metadata": {},
     "output_type": "display_data"
    },
    {
     "data": {
      "text/html": [
       "<pre style=\"white-space:pre;overflow-x:auto;line-height:normal;font-family:Menlo,'DejaVu Sans Mono',consolas,'Courier New',monospace\"><span style=\"color: #808000; text-decoration-color: #808000\">epoch</span>=<span style=\"color: #008080; text-decoration-color: #008080; font-weight: bold\">4</span>\n",
       "</pre>\n"
      ],
      "text/plain": [
       "\u001b[33mepoch\u001b[0m=\u001b[1;36m4\u001b[0m\n"
      ]
     },
     "metadata": {},
     "output_type": "display_data"
    },
    {
     "data": {
      "text/html": [
       "<pre style=\"white-space:pre;overflow-x:auto;line-height:normal;font-family:Menlo,'DejaVu Sans Mono',consolas,'Courier New',monospace\"><span style=\"color: #808000; text-decoration-color: #808000\">bleu_score</span>=<span style=\"color: #008080; text-decoration-color: #008080; font-weight: bold\">33.68</span>\n",
       "</pre>\n"
      ],
      "text/plain": [
       "\u001b[33mbleu_score\u001b[0m=\u001b[1;36m33\u001b[0m\u001b[1;36m.68\u001b[0m\n"
      ]
     },
     "metadata": {},
     "output_type": "display_data"
    },
    {
     "data": {
      "text/html": [
       "<pre style=\"white-space:pre;overflow-x:auto;line-height:normal;font-family:Menlo,'DejaVu Sans Mono',consolas,'Courier New',monospace\"><span style=\"color: #808000; text-decoration-color: #808000\">avg_train_loss</span>=<span style=\"color: #008080; text-decoration-color: #008080; font-weight: bold\">0.292122930079907</span>\n",
       "</pre>\n"
      ],
      "text/plain": [
       "\u001b[33mavg_train_loss\u001b[0m=\u001b[1;36m0\u001b[0m\u001b[1;36m.292122930079907\u001b[0m\n"
      ]
     },
     "metadata": {},
     "output_type": "display_data"
    },
    {
     "data": {
      "text/html": [
       "<pre style=\"white-space:pre;overflow-x:auto;line-height:normal;font-family:Menlo,'DejaVu Sans Mono',consolas,'Courier New',monospace\"><span style=\"color: #808000; text-decoration-color: #808000\">avg_val_loss</span>=<span style=\"color: #008080; text-decoration-color: #008080; font-weight: bold\">0.5071717818578084</span>\n",
       "</pre>\n"
      ],
      "text/plain": [
       "\u001b[33mavg_val_loss\u001b[0m=\u001b[1;36m0\u001b[0m\u001b[1;36m.5071717818578084\u001b[0m\n"
      ]
     },
     "metadata": {},
     "output_type": "display_data"
    },
    {
     "name": "stderr",
     "output_type": "stream",
     "text": [
      "\n",
      "KeyboardInterrupt\n",
      "\n"
     ]
    }
   ],
   "source": [
    "# Set up data loaders\n",
    "train_dataset = GermanEnglishDataset(train_german_sentences,train_english_sentences,  max_len=generation_max_len)\n",
    "val_dataset = GermanEnglishDataset(val_german_sentences,val_english_sentences,  max_len=generation_max_len)\n",
    "\n",
    "train_dataloader = DataLoader(train_dataset, batch_size=70, shuffle=True)\n",
    "val_dataloader = DataLoader(val_dataset, batch_size=70, shuffle=False)\n",
    "\n",
    "# Set up optimizer and scheduler\n",
    "optimizer = torch.optim.AdamW(model.parameters(), lr=LR)\n",
    "num_train_steps = int(len(train_dataset) / 16 * 10)\n",
    "scheduler = get_linear_schedule_with_warmup(\n",
    "    optimizer,\n",
    "    num_warmup_steps=0,\n",
    "    num_training_steps=num_train_steps\n",
    ")\n",
    "\n",
    "# Train and evaluate the model\n",
    "model.to(device)\n",
    "train(model, train_dataloader, val_dataloader, optimizer, scheduler, device, epochs=TRAINING_EPOCHS)"
   ]
  },
  {
   "cell_type": "markdown",
   "id": "9d91882d-ab62-4929-836b-fa4f09bde7c6",
   "metadata": {
    "tags": []
   },
   "source": [
    "## Calculating BLEU Score"
   ]
  },
  {
   "cell_type": "code",
   "execution_count": null,
   "id": "ddb7e11e-d460-4887-b8a3-a80fcade8ce7",
   "metadata": {
    "scrolled": true,
    "tags": []
   },
   "outputs": [],
   "source": [
    "pred_test_eng = predict_english_sentences(val_data[1][0:5], model,  device)\n",
    "actual_test_eng = val_data[0][0:5]\n",
    "bleu_score = project_evaluate.compute_metrics(pred_test_eng,actual_test_eng)\n",
    "print(f'{bleu_score=}')"
   ]
  },
  {
   "cell_type": "code",
   "execution_count": null,
   "id": "e20d122b",
   "metadata": {},
   "outputs": [],
   "source": [
    "# joblib.dump(model,'my_model')"
   ]
  },
  {
   "cell_type": "code",
   "execution_count": null,
   "id": "ca1ab8e3",
   "metadata": {},
   "outputs": [],
   "source": []
  }
 ],
 "metadata": {
  "hide_input": false,
  "kernelspec": {
   "display_name": "Python 3",
   "language": "python",
   "name": "python3"
  },
  "language_info": {
   "codemirror_mode": {
    "name": "ipython",
    "version": 3
   },
   "file_extension": ".py",
   "mimetype": "text/x-python",
   "name": "python",
   "nbconvert_exporter": "python",
   "pygments_lexer": "ipython3",
   "version": "3.11.2"
  },
  "toc": {
   "base_numbering": 1,
   "nav_menu": {},
   "number_sections": false,
   "sideBar": false,
   "skip_h1_title": false,
   "title_cell": "Table of Contents",
   "title_sidebar": "Contents",
   "toc_cell": false,
   "toc_position": {},
   "toc_section_display": false,
   "toc_window_display": false
  },
  "varInspector": {
   "cols": {
    "lenName": 16,
    "lenType": 16,
    "lenVar": 40
   },
   "kernels_config": {
    "python": {
     "delete_cmd_postfix": "",
     "delete_cmd_prefix": "del ",
     "library": "var_list.py",
     "varRefreshCmd": "print(var_dic_list())"
    },
    "r": {
     "delete_cmd_postfix": ") ",
     "delete_cmd_prefix": "rm(",
     "library": "var_list.r",
     "varRefreshCmd": "cat(var_dic_list()) "
    }
   },
   "types_to_exclude": [
    "module",
    "function",
    "builtin_function_or_method",
    "instance",
    "_Feature"
   ],
   "window_display": false
  }
 },
 "nbformat": 4,
 "nbformat_minor": 5
}
